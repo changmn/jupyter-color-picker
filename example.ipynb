{
 "cells": [
  {
   "cell_type": "code",
   "execution_count": 1,
   "metadata": {},
   "outputs": [],
   "source": [
    "from IPython import display\n",
    "from ipywidgets import HBox, VBox, Label, Layout\n",
    "from matplotlib import pyplot as plt\n",
    "from matplotlib.colors import ListedColormap\n",
    "import numpy as np\n",
    "\n",
    "from jupyter_color_picker import ColorPicker"
   ]
  },
  {
   "cell_type": "code",
   "execution_count": 2,
   "metadata": {
    "scrolled": true
   },
   "outputs": [
    {
     "data": {
      "application/vnd.jupyter.widget-view+json": {
       "model_id": "b0c4af90208a4174b0e51d242a250677",
       "version_major": 2,
       "version_minor": 0
      },
      "text/plain": [
       "VBox(children=(HBox(children=(Label(value='color_1', layout=Layout(margin='0px 10px')), ColorPicker(value=[0, …"
      ]
     },
     "metadata": {},
     "output_type": "display_data"
    }
   ],
   "source": [
    "# Create two color picker widgets.\n",
    "color_picker_1 = ColorPicker()\n",
    "color_picker_2 = ColorPicker()\n",
    "\n",
    "# Helper function for adding margins to HBox or VBox.\n",
    "margins = lambda x, y: Layout(margin=f'{x}px {y}px')\n",
    "\n",
    "# Display the color pickers.\n",
    "VBox([HBox([Label('color_1', layout=margins(0, 10)), color_picker_1], layout=margins(10, 20)),\n",
    "      HBox([Label('color_2', layout=margins(0, 10)), color_picker_2], layout=margins(10, 20))])"
   ]
  },
  {
   "cell_type": "code",
   "execution_count": 3,
   "metadata": {},
   "outputs": [
    {
     "name": "stdout",
     "output_type": "stream",
     "text": [
      "color_1 = rgb( 76, 200, 255)\n",
      "color_2 = rgb(130,  64, 216)\n"
     ]
    }
   ],
   "source": [
    "# ColorPicker.value gives read/write access to the color. Writing this value from a cell will\n",
    "# change the color picker display.\n",
    "color_1 = color_picker_1.value\n",
    "color_2 = color_picker_2.value\n",
    "\n",
    "# Print the selected colors.\n",
    "print('color_1 = rgb({:>3}, {:>3}, {:>3})'.format(*color_1))\n",
    "print('color_2 = rgb({:>3}, {:>3}, {:>3})'.format(*color_2))"
   ]
  },
  {
   "cell_type": "code",
   "execution_count": 4,
   "metadata": {},
   "outputs": [],
   "source": [
    "# Convert the colors into ndarrays, adding an alpha component.\n",
    "color_1 = np.array(color_1 + [255], dtype=np.float).reshape(-1, 1)\n",
    "color_2 = np.array(color_2 + [255], dtype=np.float).reshape(-1, 1)\n",
    "\n",
    "# Interpolate between the two colors to generate a gradient.\n",
    "t = np.repeat(np.linspace(0, 1, 36).reshape(-1, 1), 4, axis=1).T\n",
    "cmap_values = color_1*(1-t) + color_2*t\n",
    "\n",
    "# Convert the gradient into a Matplotlib colormap.\n",
    "cmap = ListedColormap(cmap_values.T / 255)"
   ]
  },
  {
   "cell_type": "code",
   "execution_count": 5,
   "metadata": {},
   "outputs": [],
   "source": [
    "# Generate some data to plot.\n",
    "x = np.linspace(-2*np.pi, 2*np.pi, 128)\n",
    "y = np.linspace(-2*np.pi, 2*np.pi, 128)\n",
    "xv, yv = np.meshgrid(x, y)\n",
    "im = np.sin(xv) + np.sin(yv)"
   ]
  },
  {
   "cell_type": "code",
   "execution_count": 6,
   "metadata": {},
   "outputs": [
    {
     "data": {
      "image/png": "[encoded data removed]",
      "text/plain": [
       "<Figure size 432x288 with 1 Axes>"
      ]
     },
     "metadata": {
      "needs_background": "light"
     },
     "output_type": "display_data"
    }
   ],
   "source": [
    "# Show the plot.\n",
    "fig, ax = plt.subplots()\n",
    "ax.imshow(im, cmap=cmap)\n",
    "plt.show()"
   ]
  }
 ],
 "metadata": {
  "kernelspec": {
   "display_name": "Python 3",
   "language": "python",
   "name": "python3"
  },
  "language_info": {
   "codemirror_mode": {
    "name": "ipython",
    "version": 3
   },
   "file_extension": ".py",
   "mimetype": "text/x-python",
   "name": "python",
   "nbconvert_exporter": "python",
   "pygments_lexer": "ipython3",
   "version": "3.8.5"
  },
  "widgets": {
   "application/vnd.jupyter.widget-state+json": {
    "state": {
     "002bdf5b16f84fae804718618d36e924": {
      "model_module": "@jupyter-widgets/controls",
      "model_module_version": "1.5.0",
      "model_name": "LabelModel",
      "state": {
       "layout": "IPY_MODEL_49498b72f3154f38a69c70044ee88055",
       "style": "IPY_MODEL_df64b78e3c304bc4bf7ddde51e76caf4",
       "value": "Color #1:"
      }
     },
     "00c41564b8b44d35b6b48f796decdd1f": {
      "model_module": "@jupyter-widgets/controls",
      "model_module_version": "1.5.0",
      "model_name": "HBoxModel",
      "state": {
       "children": [
        "IPY_MODEL_072c998ab6bf4c8b9adf35d7893e9410",
        "IPY_MODEL_a0b91678d23c4ec283c4b5c6cdd48866"
       ],
       "layout": "IPY_MODEL_4963bd9ede834d1e989536565ba65196"
      }
     },
     "00f8f445989848c380dc29e0d0100d11": {
      "model_module": "@jupyter-widgets/base",
      "model_module_version": "1.2.0",
      "model_name": "LayoutModel",
      "state": {
       "margin": "10px 20px"
      }
     },
     "027472734bf448ef849500a750c8c5f0": {
      "model_module": "@jupyter-widgets/controls",
      "model_module_version": "1.5.0",
      "model_name": "LabelModel",
      "state": {
       "layout": "IPY_MODEL_ea144ece112944b69e6e8489d5268c29",
       "style": "IPY_MODEL_7c6a84ea283044888d3ffa801870b2ba",
       "value": "color_2"
      }
     },
     "02e2bc5998f74c93b7b5eaa960c457de": {
      "model_module": "colorpicker",
      "model_module_version": "^0.1.0",
      "model_name": "ColorPickerModel",
      "state": {
       "_model_module_version": "^0.1.0",
       "_view_module_version": "^0.1.0",
       "layout": "IPY_MODEL_38070ddc5523442eabac8932fbd7d251"
      }
     },
     "031380abe227461083f5ea28557036a9": {
      "model_module": "@jupyter-widgets/base",
      "model_module_version": "1.2.0",
      "model_name": "LayoutModel",
      "state": {
       "margin": "0 0 0 0px"
      }
     },
     "03d93d34466141cdba39ff44ba503d2d": {
      "model_module": "@jupyter-widgets/base",
      "model_module_version": "1.2.0",
      "model_name": "LayoutModel",
      "state": {}
     },
     "044bc8687c78411aaf1edb0e182b6f07": {
      "model_module": "@jupyter-widgets/controls",
      "model_module_version": "1.5.0",
      "model_name": "HBoxModel",
      "state": {
       "children": [
        "IPY_MODEL_8596df25e3844f73b50b65e8a961cba2",
        "IPY_MODEL_5183adab86814f20be604196d0396667"
       ],
       "layout": "IPY_MODEL_6acef65e8247495bb3f98cc312f3e37c"
      }
     },
     "068f8bf36c034ca292f5423d5ded605d": {
      "model_module": "@jupyter-widgets/base",
      "model_module_version": "1.2.0",
      "model_name": "LayoutModel",
      "state": {}
     },
     "06f027533970437d9edf479fc52f505f": {
      "model_module": "@jupyter-widgets/base",
      "model_module_version": "1.2.0",
      "model_name": "LayoutModel",
      "state": {}
     },
     "072c998ab6bf4c8b9adf35d7893e9410": {
      "model_module": "@jupyter-widgets/controls",
      "model_module_version": "1.5.0",
      "model_name": "LabelModel",
      "state": {
       "layout": "IPY_MODEL_152ca3eaf5aa4249b28ee48f36031210",
       "style": "IPY_MODEL_0fa36e50e7a3466cbb7201ce49e8fbe3",
       "value": "Color #2"
      }
     },
     "0759e5ef474a4c5fbc1eb1bc183790bc": {
      "model_module": "@jupyter-widgets/controls",
      "model_module_version": "1.5.0",
      "model_name": "DescriptionStyleModel",
      "state": {
       "description_width": ""
      }
     },
     "0789673b7e334b3c958e18f2528313be": {
      "model_module": "@jupyter-widgets/base",
      "model_module_version": "1.2.0",
      "model_name": "LayoutModel",
      "state": {}
     },
     "0810abd62c61422bb6945d3925feaf6f": {
      "model_module": "@jupyter-widgets/base",
      "model_module_version": "1.2.0",
      "model_name": "LayoutModel",
      "state": {}
     },
     "0a5eeeb5494d4234acf2618a4bc8bd9d": {
      "model_module": "@jupyter-widgets/base",
      "model_module_version": "1.2.0",
      "model_name": "LayoutModel",
      "state": {}
     },
     "0ac34b45e36f4a7d987f26735a72b994": {
      "model_module": "@jupyter-widgets/base",
      "model_module_version": "1.2.0",
      "model_name": "LayoutModel",
      "state": {
       "margin": "10px 20px"
      }
     },
     "0d76c081015a4bba97c1379314a0ea7e": {
      "model_module": "@jupyter-widgets/controls",
      "model_module_version": "1.5.0",
      "model_name": "DescriptionStyleModel",
      "state": {
       "description_width": ""
      }
     },
     "0e52be1c49854d6caa5bd3a91e665d2e": {
      "model_module": "@jupyter-widgets/base",
      "model_module_version": "1.2.0",
      "model_name": "LayoutModel",
      "state": {}
     },
     "0e6ce3854d9f468889dbdde57569dd3b": {
      "model_module": "@jupyter-widgets/base",
      "model_module_version": "1.2.0",
      "model_name": "LayoutModel",
      "state": {}
     },
     "0e7b8ef914a04ba897c444fc5d0bf007": {
      "model_module": "colorpicker",
      "model_module_version": "^0.1.0",
      "model_name": "ColorPickerModel",
      "state": {
       "_model_module_version": "^0.1.0",
       "_view_module_version": "^0.1.0",
       "layout": "IPY_MODEL_8606b55fe5c64a7ea427b02ffcc68a4f"
      }
     },
     "0fa36e50e7a3466cbb7201ce49e8fbe3": {
      "model_module": "@jupyter-widgets/controls",
      "model_module_version": "1.5.0",
      "model_name": "DescriptionStyleModel",
      "state": {
       "description_width": ""
      }
     },
     "0fe91a149aa0492097e9211ab4c4cbd9": {
      "model_module": "@jupyter-widgets/base",
      "model_module_version": "1.2.0",
      "model_name": "LayoutModel",
      "state": {
       "margin": "0px 10px"
      }
     },
     "10170aa8df324ab7a9f67bdeff996065": {
      "model_module": "@jupyter-widgets/base",
      "model_module_version": "1.2.0",
      "model_name": "LayoutModel",
      "state": {
       "margin": "10px 20px"
      }
     },
     "10694aa4ca144585929448f9101a2ef7": {
      "model_module": "@jupyter-widgets/controls",
      "model_module_version": "1.5.0",
      "model_name": "VBoxModel",
      "state": {
       "children": [
        "IPY_MODEL_22f7523cd1ef46e6b95044a89a221474",
        "IPY_MODEL_18e81335d74a4b3eaada7f69be066a51"
       ],
       "layout": "IPY_MODEL_52e7bbd3632c49278008177b93a08333"
      }
     },
     "1131e0b479944ddeb51d498403c83bb4": {
      "model_module": "colorpicker",
      "model_module_version": "^0.1.0",
      "model_name": "ColorPickerModel",
      "state": {
       "_model_module_version": "^0.1.0",
       "_view_module_version": "^0.1.0",
       "layout": "IPY_MODEL_bd3b27545348426297e8a05ad38360a8"
      }
     },
     "116ebc827fa64265b155cdbc14f0169e": {
      "model_module": "@jupyter-widgets/base",
      "model_module_version": "1.2.0",
      "model_name": "LayoutModel",
      "state": {}
     },
     "12047870aa32432ca905b6a4dca50693": {
      "model_module": "@jupyter-widgets/base",
      "model_module_version": "1.2.0",
      "model_name": "LayoutModel",
      "state": {
       "margin": "10px 20px"
      }
     },
     "13e8c8e47c1c4504a770d83f934a3a5e": {
      "model_module": "@jupyter-widgets/base",
      "model_module_version": "1.2.0",
      "model_name": "LayoutModel",
      "state": {}
     },
     "13fc075becc44bd8bc3bea0b872941ea": {
      "model_module": "@jupyter-widgets/base",
      "model_module_version": "1.2.0",
      "model_name": "LayoutModel",
      "state": {
       "margin": "0px 10px"
      }
     },
     "141180c53b574d3996adb16b5caed1e2": {
      "model_module": "@jupyter-widgets/base",
      "model_module_version": "1.2.0",
      "model_name": "LayoutModel",
      "state": {}
     },
     "14c9730a26e74f1d85114e31a911c788": {
      "model_module": "@jupyter-widgets/base",
      "model_module_version": "1.2.0",
      "model_name": "LayoutModel",
      "state": {}
     },
     "152ca3eaf5aa4249b28ee48f36031210": {
      "model_module": "@jupyter-widgets/base",
      "model_module_version": "1.2.0",
      "model_name": "LayoutModel",
      "state": {}
     },
     "15378ba6687b47f5a4e1212db10d6a86": {
      "model_module": "@jupyter-widgets/controls",
      "model_module_version": "1.5.0",
      "model_name": "LabelModel",
      "state": {
       "layout": "IPY_MODEL_ad7c51c0531d45a3b48b0a4415b3bffc",
       "style": "IPY_MODEL_6985b25f6eff4388801f4c71060e3fc2",
       "value": "Color #2"
      }
     },
     "155a08b8140c42159b0ca7b23e96ee5b": {
      "model_module": "@jupyter-widgets/base",
      "model_module_version": "1.2.0",
      "model_name": "LayoutModel",
      "state": {}
     },
     "176bda01c768454eb23c560d467b081a": {
      "model_module": "@jupyter-widgets/controls",
      "model_module_version": "1.5.0",
      "model_name": "LabelModel",
      "state": {
       "layout": "IPY_MODEL_c35cd84f282c4453997643df10e2e858",
       "style": "IPY_MODEL_d4fb221edfd04020b92d6f813d9c4634",
       "value": "Color #1"
      }
     },
     "18e81335d74a4b3eaada7f69be066a51": {
      "model_module": "@jupyter-widgets/controls",
      "model_module_version": "1.5.0",
      "model_name": "HBoxModel",
      "state": {
       "children": [
        "IPY_MODEL_36d3c10243644dd0a3030c3ccf9df0ae",
        "IPY_MODEL_6b87a9632bf44721b5c07537d6745903"
       ],
       "layout": "IPY_MODEL_41b71ee0bafa415dac92c17c6e746894"
      }
     },
     "1993cb55834f4ba2bcc6289ee3915fc6": {
      "model_module": "@jupyter-widgets/base",
      "model_module_version": "1.2.0",
      "model_name": "LayoutModel",
      "state": {}
     },
     "1ac67e15c2494ebbb127b1d587a3a546": {
      "model_module": "@jupyter-widgets/base",
      "model_module_version": "1.2.0",
      "model_name": "LayoutModel",
      "state": {}
     },
     "1b0323252d124920ba3696a5549944e6": {
      "model_module": "@jupyter-widgets/base",
      "model_module_version": "1.2.0",
      "model_name": "LayoutModel",
      "state": {
       "margin": "0px 10px"
      }
     },
     "1b7606c27d61415da21a5cf38f8cf899": {
      "model_module": "@jupyter-widgets/base",
      "model_module_version": "1.2.0",
      "model_name": "LayoutModel",
      "state": {
       "margin": "5px 5px 5px 5px "
      }
     },
     "1bae54d11a784a3a8ac50105e1778fbf": {
      "model_module": "colorpicker",
      "model_module_version": "^0.1.0",
      "model_name": "ColorPickerModel",
      "state": {
       "_model_module_version": "^0.1.0",
       "_view_module_version": "^0.1.0",
       "layout": "IPY_MODEL_b3564918f4694576a68fb6f58f0d8a81"
      }
     },
     "1bc687629d94433da496457268c2add6": {
      "model_module": "@jupyter-widgets/controls",
      "model_module_version": "1.5.0",
      "model_name": "DescriptionStyleModel",
      "state": {
       "description_width": ""
      }
     },
     "1bc9198b4a4b4542be4a5fd32238e7b6": {
      "model_module": "@jupyter-widgets/base",
      "model_module_version": "1.2.0",
      "model_name": "LayoutModel",
      "state": {
       "margin": "5px 5px 5px 5px "
      }
     },
     "1bcd77036ec5453fb83e1e760a60f3f2": {
      "model_module": "@jupyter-widgets/base",
      "model_module_version": "1.2.0",
      "model_name": "LayoutModel",
      "state": {}
     },
     "1c50ae15a6324313b6c9fcdd8a31b7e3": {
      "model_module": "@jupyter-widgets/base",
      "model_module_version": "1.2.0",
      "model_name": "LayoutModel",
      "state": {}
     },
     "1c672c6b8c654aa5bd476ef3739f0445": {
      "model_module": "@jupyter-widgets/base",
      "model_module_version": "1.2.0",
      "model_name": "LayoutModel",
      "state": {
       "margin": "5px 20px"
      }
     },
     "1c8f4ee79d7a4d9d8706b0e0cac69024": {
      "model_module": "@jupyter-widgets/base",
      "model_module_version": "1.2.0",
      "model_name": "LayoutModel",
      "state": {}
     },
     "1cd699b06bf3438485cb086acf2f940f": {
      "model_module": "colorpicker",
      "model_module_version": "^0.1.0",
      "model_name": "ColorPickerModel",
      "state": {
       "_model_module_version": "^0.1.0",
       "_view_module_version": "^0.1.0",
       "layout": "IPY_MODEL_7b12cec1103146ae9d52302f7a7982a8"
      }
     },
     "1dd754fe53ba4fa18d481a950f3d18ed": {
      "model_module": "@jupyter-widgets/controls",
      "model_module_version": "1.5.0",
      "model_name": "HBoxModel",
      "state": {
       "children": [
        "IPY_MODEL_f61734fb4534478893edac283f75a12a",
        "IPY_MODEL_b96d64baad3247bf9846c4968ceb9a4a"
       ],
       "layout": "IPY_MODEL_625cf74d9d924799bbd4092bbd4fb68e"
      }
     },
     "1e066b66d7bb4a26810fceab754514ff": {
      "model_module": "@jupyter-widgets/controls",
      "model_module_version": "1.5.0",
      "model_name": "HBoxModel",
      "state": {
       "children": [
        "IPY_MODEL_4706b30cf495493ca8859b2ba514e672",
        "IPY_MODEL_1131e0b479944ddeb51d498403c83bb4"
       ],
       "layout": "IPY_MODEL_46c9347765f3498d92377266b29d011e"
      }
     },
     "1f01386bbffe4ffabf81fa717bcb4094": {
      "model_module": "@jupyter-widgets/controls",
      "model_module_version": "1.5.0",
      "model_name": "VBoxModel",
      "state": {
       "children": [
        "IPY_MODEL_afa10fdcf3eb44b590dea5dedc1b3c3b",
        "IPY_MODEL_7027f4f7ca9946ae83eb466309145007"
       ],
       "layout": "IPY_MODEL_ab255b92a0d542298696504cc21b2112"
      }
     },
     "1fbb922eeb1849179c9b177ad2ab90a0": {
      "model_module": "colorpicker",
      "model_module_version": "^0.1.0",
      "model_name": "ColorPickerModel",
      "state": {
       "_model_module_version": "^0.1.0",
       "_view_module_version": "^0.1.0",
       "layout": "IPY_MODEL_e58bcd17ce65477b8906da89603eb156"
      }
     },
     "2063d5cdeb964806bb9679a0acbb9f45": {
      "model_module": "@jupyter-widgets/base",
      "model_module_version": "1.2.0",
      "model_name": "LayoutModel",
      "state": {}
     },
     "20c3bf760f534e22a08e2e3d3f56285b": {
      "model_module": "@jupyter-widgets/base",
      "model_module_version": "1.2.0",
      "model_name": "LayoutModel",
      "state": {}
     },
     "219e52fd397c454c971857bee7886b3d": {
      "model_module": "@jupyter-widgets/controls",
      "model_module_version": "1.5.0",
      "model_name": "DescriptionStyleModel",
      "state": {
       "description_width": ""
      }
     },
     "22f7523cd1ef46e6b95044a89a221474": {
      "model_module": "@jupyter-widgets/controls",
      "model_module_version": "1.5.0",
      "model_name": "HBoxModel",
      "state": {
       "children": [
        "IPY_MODEL_936c10e16aa4404fa56d65dad1e6aa76",
        "IPY_MODEL_2db9100b88704c4aa7896a5c69163c5c"
       ],
       "layout": "IPY_MODEL_34ad5be8462f48daa46c10583a0fa262"
      }
     },
     "24e61f30731f4af68bab8ec1dd51e832": {
      "model_module": "@jupyter-widgets/controls",
      "model_module_version": "1.5.0",
      "model_name": "LabelModel",
      "state": {
       "layout": "IPY_MODEL_13fc075becc44bd8bc3bea0b872941ea",
       "style": "IPY_MODEL_b0dd15cdfee0422894743ae79cbe3c27",
       "value": "color_1:"
      }
     },
     "2549e99d16de4769b71be83217f1fc03": {
      "model_module": "@jupyter-widgets/controls",
      "model_module_version": "1.5.0",
      "model_name": "DescriptionStyleModel",
      "state": {
       "description_width": ""
      }
     },
     "25b28a3930274b168a4d0651703a7831": {
      "model_module": "@jupyter-widgets/controls",
      "model_module_version": "1.5.0",
      "model_name": "LabelModel",
      "state": {
       "layout": "IPY_MODEL_367b64d11bf445b2b572940b2a8ce8f4",
       "style": "IPY_MODEL_0d76c081015a4bba97c1379314a0ea7e",
       "value": "color_2"
      }
     },
     "25fee2635d144792a7717802c758af0d": {
      "model_module": "@jupyter-widgets/base",
      "model_module_version": "1.2.0",
      "model_name": "LayoutModel",
      "state": {}
     },
     "280214ae573d49c3bf42ad2ec5d79acd": {
      "model_module": "@jupyter-widgets/controls",
      "model_module_version": "1.5.0",
      "model_name": "DescriptionStyleModel",
      "state": {
       "description_width": ""
      }
     },
     "284e7fabe5ed4c3ea0eebdfedcc22989": {
      "model_module": "@jupyter-widgets/base",
      "model_module_version": "1.2.0",
      "model_name": "LayoutModel",
      "state": {}
     },
     "2892a233cea843cdb4a353221070c2d0": {
      "model_module": "@jupyter-widgets/base",
      "model_module_version": "1.2.0",
      "model_name": "LayoutModel",
      "state": {
       "margin": "10px 20px"
      }
     },
     "2919b06cfe3e43d4bfd8a838ee01c99f": {
      "model_module": "@jupyter-widgets/base",
      "model_module_version": "1.2.0",
      "model_name": "LayoutModel",
      "state": {
       "margin": "0px 10px"
      }
     },
     "2a5cc087aec44c66be55de3c4f9b67cf": {
      "model_module": "@jupyter-widgets/controls",
      "model_module_version": "1.5.0",
      "model_name": "DescriptionStyleModel",
      "state": {
       "description_width": ""
      }
     },
     "2bed81b3cd054fbdbfbb45ca66d081b2": {
      "model_module": "colorpicker",
      "model_module_version": "^0.1.0",
      "model_name": "ColorPickerModel",
      "state": {
       "_model_module_version": "^0.1.0",
       "_view_module_version": "^0.1.0",
       "layout": "IPY_MODEL_439af2dd17cd4da5a961d598e824b9a1",
       "value": [
        130,
        64,
        216
       ]
      }
     },
     "2db9100b88704c4aa7896a5c69163c5c": {
      "model_module": "colorpicker",
      "model_module_version": "^0.1.0",
      "model_name": "ColorPickerModel",
      "state": {
       "_model_module_version": "^0.1.0",
       "_view_module_version": "^0.1.0",
       "layout": "IPY_MODEL_56abdf504e1a459e870758bb0de3a06c"
      }
     },
     "2de07c404a0549e5a99b81b59300bfee": {
      "model_module": "@jupyter-widgets/base",
      "model_module_version": "1.2.0",
      "model_name": "LayoutModel",
      "state": {}
     },
     "2f1b8b10800d4022b7c97bb309c61065": {
      "model_module": "@jupyter-widgets/base",
      "model_module_version": "1.2.0",
      "model_name": "LayoutModel",
      "state": {}
     },
     "2f39fba3746d4bc6a818aa4f6599a011": {
      "model_module": "@jupyter-widgets/base",
      "model_module_version": "1.2.0",
      "model_name": "LayoutModel",
      "state": {}
     },
     "3197815c734f49cda34e5e07ed44c3cc": {
      "model_module": "@jupyter-widgets/controls",
      "model_module_version": "1.5.0",
      "model_name": "HBoxModel",
      "state": {
       "children": [
        "IPY_MODEL_b50abe0e7bc946bb963e4904fb32763d",
        "IPY_MODEL_1fbb922eeb1849179c9b177ad2ab90a0"
       ],
       "layout": "IPY_MODEL_0e6ce3854d9f468889dbdde57569dd3b"
      }
     },
     "3248fcf6f21b46aeb821ffc9d9b4b4c2": {
      "model_module": "@jupyter-widgets/base",
      "model_module_version": "1.2.0",
      "model_name": "LayoutModel",
      "state": {}
     },
     "3309c18f13d845968e8e50cb783fa433": {
      "model_module": "colorpicker",
      "model_module_version": "^0.1.0",
      "model_name": "ColorPickerModel",
      "state": {
       "_model_module_version": "^0.1.0",
       "_view_module_version": "^0.1.0",
       "layout": "IPY_MODEL_81a1f06ce2954edaab08622f054045a1"
      }
     },
     "3358deb6412849098015868f4c4819eb": {
      "model_module": "@jupyter-widgets/controls",
      "model_module_version": "1.5.0",
      "model_name": "LabelModel",
      "state": {
       "layout": "IPY_MODEL_9e8e9ad90f33462182db3e4895ce115d",
       "style": "IPY_MODEL_c0a29c17e5b841f3a8f1b5683eee5eba",
       "value": "Color #1"
      }
     },
     "33b8836f2f9a4654829860a884ae4e3b": {
      "model_module": "@jupyter-widgets/controls",
      "model_module_version": "1.5.0",
      "model_name": "LabelModel",
      "state": {
       "layout": "IPY_MODEL_db61ea8c79d54aac8432f3187865b9f3",
       "style": "IPY_MODEL_f16e48396e22484c9244600aee38cf4d",
       "value": "Color #2: "
      }
     },
     "33ff9cdd2151462abc7c588a44ce98b7": {
      "model_module": "colorpicker",
      "model_module_version": "^0.1.0",
      "model_name": "ColorPickerModel",
      "state": {
       "_model_module_version": "^0.1.0",
       "_view_module_version": "^0.1.0",
       "layout": "IPY_MODEL_a73cbce46fdb4684b6c252d8731f32c4",
       "value": [
        42,
        153,
        231
       ]
      }
     },
     "34a5154096b94661980c52034780eea3": {
      "model_module": "@jupyter-widgets/controls",
      "model_module_version": "1.5.0",
      "model_name": "DescriptionStyleModel",
      "state": {
       "description_width": ""
      }
     },
     "34ad5be8462f48daa46c10583a0fa262": {
      "model_module": "@jupyter-widgets/base",
      "model_module_version": "1.2.0",
      "model_name": "LayoutModel",
      "state": {
       "margin": "5px 5px 5px 5px "
      }
     },
     "34c5bcc35e5f45938b5cb2966893ede0": {
      "model_module": "@jupyter-widgets/base",
      "model_module_version": "1.2.0",
      "model_name": "LayoutModel",
      "state": {
       "margin": "0px 10px"
      }
     },
     "34f004bc897b4654880a915b3a906d8d": {
      "model_module": "@jupyter-widgets/controls",
      "model_module_version": "1.5.0",
      "model_name": "LabelModel",
      "state": {
       "layout": "IPY_MODEL_b7f0a3c5c7ea42ffbe9236fc2c084386",
       "style": "IPY_MODEL_36ad58bccc8d420390c50e5bfc1620e3",
       "value": "color_2"
      }
     },
     "35bdf88d5c604f72be01a03a47b50d46": {
      "model_module": "@jupyter-widgets/controls",
      "model_module_version": "1.5.0",
      "model_name": "VBoxModel",
      "state": {
       "children": [
        "IPY_MODEL_9260ea6e1f0d4d118e5855b5a2b60bee",
        "IPY_MODEL_7f0dee9c976a438481562e8873f93ad9"
       ],
       "layout": "IPY_MODEL_54389006527e4dce937b179cdcfc10f0"
      }
     },
     "367b64d11bf445b2b572940b2a8ce8f4": {
      "model_module": "@jupyter-widgets/base",
      "model_module_version": "1.2.0",
      "model_name": "LayoutModel",
      "state": {
       "margin": "0px 10px"
      }
     },
     "36ad58bccc8d420390c50e5bfc1620e3": {
      "model_module": "@jupyter-widgets/controls",
      "model_module_version": "1.5.0",
      "model_name": "DescriptionStyleModel",
      "state": {
       "description_width": ""
      }
     },
     "36d3c10243644dd0a3030c3ccf9df0ae": {
      "model_module": "@jupyter-widgets/controls",
      "model_module_version": "1.5.0",
      "model_name": "LabelModel",
      "state": {
       "layout": "IPY_MODEL_60bc1e660c7d452897e2027f06dfc793",
       "style": "IPY_MODEL_de6dd3928f9c405191d33574969fd132",
       "value": "Color #2:"
      }
     },
     "38070ddc5523442eabac8932fbd7d251": {
      "model_module": "@jupyter-widgets/base",
      "model_module_version": "1.2.0",
      "model_name": "LayoutModel",
      "state": {}
     },
     "396d7a03b72848abb455372068478aa5": {
      "model_module": "colorpicker",
      "model_module_version": "^0.1.0",
      "model_name": "ColorPickerModel",
      "state": {
       "_model_module_version": "^0.1.0",
       "_view_module_version": "^0.1.0",
       "layout": "IPY_MODEL_96f396fc193b49219f0d0e973655615d"
      }
     },
     "3a6ceadc966747cfb6fd964d968b3d45": {
      "model_module": "@jupyter-widgets/base",
      "model_module_version": "1.2.0",
      "model_name": "LayoutModel",
      "state": {}
     },
     "3acbcf3ec7254077a303d3eb48761976": {
      "model_module": "@jupyter-widgets/base",
      "model_module_version": "1.2.0",
      "model_name": "LayoutModel",
      "state": {}
     },
     "3aef8029dd7243289d5e193eb4e389b7": {
      "model_module": "@jupyter-widgets/controls",
      "model_module_version": "1.5.0",
      "model_name": "LabelModel",
      "state": {
       "layout": "IPY_MODEL_cfc5caabaca24a46bdab26fe77526c2f",
       "style": "IPY_MODEL_cc6b25690d3b40558aa232beef396103",
       "value": "Color #1: "
      }
     },
     "3af8157c72044718a65fad10a6532d9f": {
      "model_module": "@jupyter-widgets/base",
      "model_module_version": "1.2.0",
      "model_name": "LayoutModel",
      "state": {}
     },
     "3b686da135e441f2b54d0293bf559f38": {
      "model_module": "@jupyter-widgets/controls",
      "model_module_version": "1.5.0",
      "model_name": "HBoxModel",
      "state": {
       "children": [
        "IPY_MODEL_bbdc186dc4874c1e896c3b4af57a4dd5",
        "IPY_MODEL_3309c18f13d845968e8e50cb783fa433"
       ],
       "layout": "IPY_MODEL_20c3bf760f534e22a08e2e3d3f56285b"
      }
     },
     "3ca548802da8464fba0496093ffd6594": {
      "model_module": "@jupyter-widgets/base",
      "model_module_version": "1.2.0",
      "model_name": "LayoutModel",
      "state": {
       "margin": "10px 20px"
      }
     },
     "3ee01721963e4380aa366a711f587646": {
      "model_module": "@jupyter-widgets/controls",
      "model_module_version": "1.5.0",
      "model_name": "DescriptionStyleModel",
      "state": {
       "description_width": ""
      }
     },
     "3f2ca391b5f1437abb89d783d806f57b": {
      "model_module": "@jupyter-widgets/controls",
      "model_module_version": "1.5.0",
      "model_name": "DescriptionStyleModel",
      "state": {
       "description_width": ""
      }
     },
     "40158e3cefd34bb18031552e30e3b430": {
      "model_module": "@jupyter-widgets/controls",
      "model_module_version": "1.5.0",
      "model_name": "HBoxModel",
      "state": {
       "children": [
        "IPY_MODEL_71b9dd60b632441e9520b4785d90e401",
        "IPY_MODEL_1cd699b06bf3438485cb086acf2f940f"
       ],
       "layout": "IPY_MODEL_fa870d96f6c945648d8d368160209ada"
      }
     },
     "40daa9274f07494bb363ee9b642550d8": {
      "model_module": "@jupyter-widgets/base",
      "model_module_version": "1.2.0",
      "model_name": "LayoutModel",
      "state": {
       "margin": "0px 10px"
      }
     },
     "414d205715d643d9a94530e8534fb8da": {
      "model_module": "@jupyter-widgets/base",
      "model_module_version": "1.2.0",
      "model_name": "LayoutModel",
      "state": {
       "margin": "10px 20px"
      }
     },
     "41b71ee0bafa415dac92c17c6e746894": {
      "model_module": "@jupyter-widgets/base",
      "model_module_version": "1.2.0",
      "model_name": "LayoutModel",
      "state": {
       "margin": "5px 5px 5px 5px "
      }
     },
     "41c5524f3e5748788874cf02b3ee548b": {
      "model_module": "@jupyter-widgets/base",
      "model_module_version": "1.2.0",
      "model_name": "LayoutModel",
      "state": {}
     },
     "43955f13ccb242288e32b1ae9067b9e0": {
      "model_module": "@jupyter-widgets/base",
      "model_module_version": "1.2.0",
      "model_name": "LayoutModel",
      "state": {}
     },
     "439af2dd17cd4da5a961d598e824b9a1": {
      "model_module": "@jupyter-widgets/base",
      "model_module_version": "1.2.0",
      "model_name": "LayoutModel",
      "state": {}
     },
     "441cae5907824d2ba641c0567db8b35d": {
      "model_module": "colorpicker",
      "model_module_version": "^0.1.0",
      "model_name": "ColorPickerModel",
      "state": {
       "_model_module_version": "^0.1.0",
       "_view_module_version": "^0.1.0",
       "layout": "IPY_MODEL_3248fcf6f21b46aeb821ffc9d9b4b4c2",
       "value": [
        76,
        200,
        255
       ]
      }
     },
     "454d1402d0a4417f9764a53dd6fb2bd7": {
      "model_module": "@jupyter-widgets/base",
      "model_module_version": "1.2.0",
      "model_name": "LayoutModel",
      "state": {}
     },
     "4685d280e9954f0095caa502c7a48768": {
      "model_module": "@jupyter-widgets/base",
      "model_module_version": "1.2.0",
      "model_name": "LayoutModel",
      "state": {
       "margin": "0px 10px"
      }
     },
     "469d5ad5872d48ac91caea68936fca76": {
      "model_module": "@jupyter-widgets/base",
      "model_module_version": "1.2.0",
      "model_name": "LayoutModel",
      "state": {
       "margin": "0px 10px"
      }
     },
     "46c9347765f3498d92377266b29d011e": {
      "model_module": "@jupyter-widgets/base",
      "model_module_version": "1.2.0",
      "model_name": "LayoutModel",
      "state": {}
     },
     "4706b30cf495493ca8859b2ba514e672": {
      "model_module": "@jupyter-widgets/controls",
      "model_module_version": "1.5.0",
      "model_name": "LabelModel",
      "state": {
       "layout": "IPY_MODEL_dd67b1ab8fdc498a9ff947f53089e321",
       "style": "IPY_MODEL_da18eac1652e4ceeb1051ac90cd2218f",
       "value": "Color #2"
      }
     },
     "47f604c506724987adb1c0c67e8a478f": {
      "model_module": "@jupyter-widgets/controls",
      "model_module_version": "1.5.0",
      "model_name": "DescriptionStyleModel",
      "state": {
       "description_width": ""
      }
     },
     "49389d24461b4581b5e8dc6790f59c71": {
      "model_module": "@jupyter-widgets/base",
      "model_module_version": "1.2.0",
      "model_name": "LayoutModel",
      "state": {
       "margin": "0px 10px"
      }
     },
     "49498b72f3154f38a69c70044ee88055": {
      "model_module": "@jupyter-widgets/base",
      "model_module_version": "1.2.0",
      "model_name": "LayoutModel",
      "state": {
       "margin": "0px 10px"
      }
     },
     "4963bd9ede834d1e989536565ba65196": {
      "model_module": "@jupyter-widgets/base",
      "model_module_version": "1.2.0",
      "model_name": "LayoutModel",
      "state": {}
     },
     "4b6c6ea78a6b4d3e9a6a540e77880cb8": {
      "model_module": "@jupyter-widgets/base",
      "model_module_version": "1.2.0",
      "model_name": "LayoutModel",
      "state": {}
     },
     "4d48d862a42841ec8d16af4fb3dbcd36": {
      "model_module": "@jupyter-widgets/base",
      "model_module_version": "1.2.0",
      "model_name": "LayoutModel",
      "state": {
       "margin": "0 0 0 100px"
      }
     },
     "4d8214fabdd44a478bf3765083d7e935": {
      "model_module": "colorpicker",
      "model_module_version": "^0.1.0",
      "model_name": "ColorPickerModel",
      "state": {
       "_model_module_version": "^0.1.0",
       "_view_module_version": "^0.1.0",
       "layout": "IPY_MODEL_06f027533970437d9edf479fc52f505f",
       "value": [
        206,
        125,
        221
       ]
      }
     },
     "4e05d2bb339e4c0695d98749c20534f4": {
      "model_module": "colorpicker",
      "model_module_version": "^0.1.0",
      "model_name": "ColorPickerModel",
      "state": {
       "_model_module_version": "^0.1.0",
       "_view_module_version": "^0.1.0",
       "layout": "IPY_MODEL_155a08b8140c42159b0ca7b23e96ee5b",
       "value": [
        116,
        52,
        255
       ]
      }
     },
     "4e087d4772114f2d82f4f29cedcd9be4": {
      "model_module": "@jupyter-widgets/base",
      "model_module_version": "1.2.0",
      "model_name": "LayoutModel",
      "state": {}
     },
     "4ee6da0f80c14f1a978fcfb5c302db55": {
      "model_module": "@jupyter-widgets/base",
      "model_module_version": "1.2.0",
      "model_name": "LayoutModel",
      "state": {}
     },
     "4f7f375401ea4f938de80d53b9c44dae": {
      "model_module": "@jupyter-widgets/base",
      "model_module_version": "1.2.0",
      "model_name": "LayoutModel",
      "state": {
       "margin": "0px 10px"
      }
     },
     "4fab82a0cca1459ba54b708e6c9ae752": {
      "model_module": "@jupyter-widgets/controls",
      "model_module_version": "1.5.0",
      "model_name": "HBoxModel",
      "state": {
       "children": [
        "IPY_MODEL_f24da74b33024d5692bb904a95193f32",
        "IPY_MODEL_83803e0f3ff942a2a9de0a5e05e0c2e3"
       ],
       "layout": "IPY_MODEL_975f71e0d66143f291c19393a02d5f79"
      }
     },
     "5085d894a6d9490587a83496c1c9993f": {
      "model_module": "@jupyter-widgets/controls",
      "model_module_version": "1.5.0",
      "model_name": "HBoxModel",
      "state": {
       "children": [
        "IPY_MODEL_b6640fbe827344d3bed0a9e1d8aad895",
        "IPY_MODEL_02e2bc5998f74c93b7b5eaa960c457de"
       ],
       "layout": "IPY_MODEL_e827bf3cddfd407eb58763e79a63fe0d"
      }
     },
     "50c800a2ba734059923905cab7cdde67": {
      "model_module": "@jupyter-widgets/controls",
      "model_module_version": "1.5.0",
      "model_name": "HBoxModel",
      "state": {
       "children": [
        "IPY_MODEL_d7b4bc391d7c47f29eb4aeea387d3ef7",
        "IPY_MODEL_828c61c33294440d841a1cb936e94b24"
       ],
       "layout": "IPY_MODEL_f834063bfc9449c1bcf3dcf5a96aa6d6"
      }
     },
     "516fa8d87d4a49a786e5954962900d8d": {
      "model_module": "@jupyter-widgets/base",
      "model_module_version": "1.2.0",
      "model_name": "LayoutModel",
      "state": {}
     },
     "5183adab86814f20be604196d0396667": {
      "model_module": "colorpicker",
      "model_module_version": "^0.1.0",
      "model_name": "ColorPickerModel",
      "state": {
       "_model_module_version": "^0.1.0",
       "_view_module_version": "^0.1.0",
       "layout": "IPY_MODEL_3a6ceadc966747cfb6fd964d968b3d45",
       "value": [
        181,
        255,
        255
       ]
      }
     },
     "52e7bbd3632c49278008177b93a08333": {
      "model_module": "@jupyter-widgets/base",
      "model_module_version": "1.2.0",
      "model_name": "LayoutModel",
      "state": {}
     },
     "52ff9567c5624e2f9b266090b80f5fa7": {
      "model_module": "@jupyter-widgets/base",
      "model_module_version": "1.2.0",
      "model_name": "LayoutModel",
      "state": {}
     },
     "533bd14e87d345349cae1a2222f4a817": {
      "model_module": "@jupyter-widgets/controls",
      "model_module_version": "1.5.0",
      "model_name": "DescriptionStyleModel",
      "state": {
       "description_width": ""
      }
     },
     "54275303a75247b9912fe5e3bcb90877": {
      "model_module": "@jupyter-widgets/controls",
      "model_module_version": "1.5.0",
      "model_name": "LabelModel",
      "state": {
       "layout": "IPY_MODEL_6077d227b6504c4687b09642c05bd542",
       "style": "IPY_MODEL_2549e99d16de4769b71be83217f1fc03",
       "value": "Color #1"
      }
     },
     "54389006527e4dce937b179cdcfc10f0": {
      "model_module": "@jupyter-widgets/base",
      "model_module_version": "1.2.0",
      "model_name": "LayoutModel",
      "state": {}
     },
     "54ff51582fd14c37817f213d020e3b3e": {
      "model_module": "@jupyter-widgets/base",
      "model_module_version": "1.2.0",
      "model_name": "LayoutModel",
      "state": {
       "margin": "0px 10px"
      }
     },
     "56abdf504e1a459e870758bb0de3a06c": {
      "model_module": "@jupyter-widgets/base",
      "model_module_version": "1.2.0",
      "model_name": "LayoutModel",
      "state": {}
     },
     "592c23906d0048c18a0a6fa0fd539918": {
      "model_module": "colorpicker",
      "model_module_version": "^0.1.0",
      "model_name": "ColorPickerModel",
      "state": {
       "_model_module_version": "^0.1.0",
       "_view_module_version": "^0.1.0",
       "layout": "IPY_MODEL_98121f2a42bd463fa4a275066e7aecfb"
      }
     },
     "5afe8740d47844a99d3bc265b0895ec0": {
      "model_module": "@jupyter-widgets/base",
      "model_module_version": "1.2.0",
      "model_name": "LayoutModel",
      "state": {}
     },
     "5b1c790f17b74fd2bdd7edb1b12ecbce": {
      "model_module": "@jupyter-widgets/controls",
      "model_module_version": "1.5.0",
      "model_name": "DescriptionStyleModel",
      "state": {
       "description_width": ""
      }
     },
     "5c35f92812c244f89229a88694ff7a92": {
      "model_module": "@jupyter-widgets/controls",
      "model_module_version": "1.5.0",
      "model_name": "DescriptionStyleModel",
      "state": {
       "description_width": ""
      }
     },
     "5dcad3547e834bc68d884647e6f47d5d": {
      "model_module": "@jupyter-widgets/controls",
      "model_module_version": "1.5.0",
      "model_name": "VBoxModel",
      "state": {
       "children": [
        "IPY_MODEL_e71a6abee03b49428debe826c2339111",
        "IPY_MODEL_1dd754fe53ba4fa18d481a950f3d18ed"
       ],
       "layout": "IPY_MODEL_d12c47a65abb417eba127f0bab532cd1"
      }
     },
     "5e8cc4a4702a474796a934492e1ebc5e": {
      "model_module": "@jupyter-widgets/controls",
      "model_module_version": "1.5.0",
      "model_name": "HBoxModel",
      "state": {
       "children": [
        "IPY_MODEL_3358deb6412849098015868f4c4819eb",
        "IPY_MODEL_6101cbae5b454b0fa0cb7dd5540f3bb7"
       ],
       "layout": "IPY_MODEL_3af8157c72044718a65fad10a6532d9f"
      }
     },
     "5f2523d12f2e4aa68c02993a99e43ee7": {
      "model_module": "@jupyter-widgets/controls",
      "model_module_version": "1.5.0",
      "model_name": "HBoxModel",
      "state": {
       "children": [
        "IPY_MODEL_cf432559a40d4e58b0f132b9bd2b9641",
        "IPY_MODEL_eeabd9b61b40467badb27590c329819a"
       ],
       "layout": "IPY_MODEL_2f1b8b10800d4022b7c97bb309c61065"
      }
     },
     "5fc9bb97dd6a410e8601960e204e2c8a": {
      "model_module": "colorpicker",
      "model_module_version": "^0.1.0",
      "model_name": "ColorPickerModel",
      "state": {
       "_model_module_version": "^0.1.0",
       "_view_module_version": "^0.1.0",
       "layout": "IPY_MODEL_0810abd62c61422bb6945d3925feaf6f"
      }
     },
     "6077d227b6504c4687b09642c05bd542": {
      "model_module": "@jupyter-widgets/base",
      "model_module_version": "1.2.0",
      "model_name": "LayoutModel",
      "state": {}
     },
     "60bc1e660c7d452897e2027f06dfc793": {
      "model_module": "@jupyter-widgets/base",
      "model_module_version": "1.2.0",
      "model_name": "LayoutModel",
      "state": {}
     },
     "6101cbae5b454b0fa0cb7dd5540f3bb7": {
      "model_module": "colorpicker",
      "model_module_version": "^0.1.0",
      "model_name": "ColorPickerModel",
      "state": {
       "_model_module_version": "^0.1.0",
       "_view_module_version": "^0.1.0",
       "layout": "IPY_MODEL_1993cb55834f4ba2bcc6289ee3915fc6"
      }
     },
     "62339f0887634128a4a8601632465954": {
      "model_module": "@jupyter-widgets/base",
      "model_module_version": "1.2.0",
      "model_name": "LayoutModel",
      "state": {}
     },
     "624af4a7d25c463790f10f2c7b72ab91": {
      "model_module": "@jupyter-widgets/base",
      "model_module_version": "1.2.0",
      "model_name": "LayoutModel",
      "state": {}
     },
     "625cf74d9d924799bbd4092bbd4fb68e": {
      "model_module": "@jupyter-widgets/base",
      "model_module_version": "1.2.0",
      "model_name": "LayoutModel",
      "state": {
       "margin": "10px 0 0 0px"
      }
     },
     "628429942da649bd9d206169b4b10739": {
      "model_module": "@jupyter-widgets/base",
      "model_module_version": "1.2.0",
      "model_name": "LayoutModel",
      "state": {
       "margin": "5px 20px"
      }
     },
     "62eba4e2e34944c189e4e04354e3399f": {
      "model_module": "@jupyter-widgets/controls",
      "model_module_version": "1.5.0",
      "model_name": "DescriptionStyleModel",
      "state": {
       "description_width": ""
      }
     },
     "638c04283d8a43789fa0b1aab9043377": {
      "model_module": "@jupyter-widgets/controls",
      "model_module_version": "1.5.0",
      "model_name": "DescriptionStyleModel",
      "state": {
       "description_width": ""
      }
     },
     "6828a48a2faa4175818fc5cffa7d77f3": {
      "model_module": "@jupyter-widgets/controls",
      "model_module_version": "1.5.0",
      "model_name": "DescriptionStyleModel",
      "state": {
       "description_width": ""
      }
     },
     "68f266b4ec544093bb86612b1ea50664": {
      "model_module": "@jupyter-widgets/base",
      "model_module_version": "1.2.0",
      "model_name": "LayoutModel",
      "state": {}
     },
     "68f73004b74843a797fe4cd584dec9c6": {
      "model_module": "@jupyter-widgets/controls",
      "model_module_version": "1.5.0",
      "model_name": "LabelModel",
      "state": {
       "layout": "IPY_MODEL_9ca06dd8c77c49db9c2989abfbd45d31",
       "style": "IPY_MODEL_5b1c790f17b74fd2bdd7edb1b12ecbce",
       "value": "Color #1"
      }
     },
     "69567ef367784bc0ad7ccf9b46c0eee5": {
      "model_module": "@jupyter-widgets/base",
      "model_module_version": "1.2.0",
      "model_name": "LayoutModel",
      "state": {}
     },
     "6985b25f6eff4388801f4c71060e3fc2": {
      "model_module": "@jupyter-widgets/controls",
      "model_module_version": "1.5.0",
      "model_name": "DescriptionStyleModel",
      "state": {
       "description_width": ""
      }
     },
     "69a60d47ceb74e1197d1bd37182a0d83": {
      "model_module": "colorpicker",
      "model_module_version": "^0.1.0",
      "model_name": "ColorPickerModel",
      "state": {
       "_model_module_version": "^0.1.0",
       "_view_module_version": "^0.1.0",
       "layout": "IPY_MODEL_0789673b7e334b3c958e18f2528313be"
      }
     },
     "6a20691a3bf34e29b7530faf033299c7": {
      "model_module": "@jupyter-widgets/controls",
      "model_module_version": "1.5.0",
      "model_name": "LabelModel",
      "state": {
       "layout": "IPY_MODEL_516fa8d87d4a49a786e5954962900d8d",
       "style": "IPY_MODEL_949486a23bf94986b6d45c9d5443aca2",
       "value": "Color #1"
      }
     },
     "6acef65e8247495bb3f98cc312f3e37c": {
      "model_module": "@jupyter-widgets/base",
      "model_module_version": "1.2.0",
      "model_name": "LayoutModel",
      "state": {
       "margin": "10px 20px"
      }
     },
     "6aff7007b14541a0be83a0137ffa0606": {
      "model_module": "@jupyter-widgets/controls",
      "model_module_version": "1.5.0",
      "model_name": "VBoxModel",
      "state": {
       "children": [
        "IPY_MODEL_fea5e29870ee4956b148d4177c4b590a",
        "IPY_MODEL_9eeddecdaaeb4476af324853825ff9b3"
       ],
       "layout": "IPY_MODEL_c4d950de48724107a74cfb9c1628474e"
      }
     },
     "6b87a9632bf44721b5c07537d6745903": {
      "model_module": "colorpicker",
      "model_module_version": "^0.1.0",
      "model_name": "ColorPickerModel",
      "state": {
       "_model_module_version": "^0.1.0",
       "_view_module_version": "^0.1.0",
       "layout": "IPY_MODEL_5afe8740d47844a99d3bc265b0895ec0"
      }
     },
     "6d276f76f8cf4f9ca80548807cda5359": {
      "model_module": "@jupyter-widgets/controls",
      "model_module_version": "1.5.0",
      "model_name": "VBoxModel",
      "state": {
       "children": [
        "IPY_MODEL_786a878a51f14800a0ff85dc19f3689a",
        "IPY_MODEL_9ea7d46342864f20aef73ae23c91678b"
       ],
       "layout": "IPY_MODEL_f1c921ca3a074f43a1ee3ab3ae09f21a"
      }
     },
     "6fb3db04220a4c34a761405a83f10b12": {
      "model_module": "@jupyter-widgets/controls",
      "model_module_version": "1.5.0",
      "model_name": "DescriptionStyleModel",
      "state": {
       "description_width": ""
      }
     },
     "7027f4f7ca9946ae83eb466309145007": {
      "model_module": "@jupyter-widgets/controls",
      "model_module_version": "1.5.0",
      "model_name": "HBoxModel",
      "state": {
       "children": [
        "IPY_MODEL_027472734bf448ef849500a750c8c5f0",
        "IPY_MODEL_33ff9cdd2151462abc7c588a44ce98b7"
       ],
       "layout": "IPY_MODEL_b2bb285f50814ac7b3a4e6a8b5430ca5"
      }
     },
     "70a982e562ca41bbaf50aded7212dae2": {
      "model_module": "@jupyter-widgets/base",
      "model_module_version": "1.2.0",
      "model_name": "LayoutModel",
      "state": {}
     },
     "714718d7720a4b8db29e2f8f5fdfd09b": {
      "model_module": "@jupyter-widgets/base",
      "model_module_version": "1.2.0",
      "model_name": "LayoutModel",
      "state": {}
     },
     "714d11e1ce374731a0ca94d34f0a3ba9": {
      "model_module": "@jupyter-widgets/controls",
      "model_module_version": "1.5.0",
      "model_name": "DescriptionStyleModel",
      "state": {
       "description_width": ""
      }
     },
     "715442ee155d47069f6c079e17346fb4": {
      "model_module": "@jupyter-widgets/controls",
      "model_module_version": "1.5.0",
      "model_name": "DescriptionStyleModel",
      "state": {
       "description_width": ""
      }
     },
     "71b9dd60b632441e9520b4785d90e401": {
      "model_module": "@jupyter-widgets/controls",
      "model_module_version": "1.5.0",
      "model_name": "LabelModel",
      "state": {
       "layout": "IPY_MODEL_14c9730a26e74f1d85114e31a911c788",
       "style": "IPY_MODEL_533bd14e87d345349cae1a2222f4a817",
       "value": "Color #1"
      }
     },
     "72c8287713ee428cbc0624e24db7e38b": {
      "model_module": "@jupyter-widgets/controls",
      "model_module_version": "1.5.0",
      "model_name": "LabelModel",
      "state": {
       "layout": "IPY_MODEL_4f7f375401ea4f938de80d53b9c44dae",
       "style": "IPY_MODEL_a458b8baddc94131887a81b33a407d06",
       "value": "color_1"
      }
     },
     "738f320a215b43a59b87d8b538d724dc": {
      "model_module": "@jupyter-widgets/controls",
      "model_module_version": "1.5.0",
      "model_name": "VBoxModel",
      "state": {
       "children": [
        "IPY_MODEL_a2da38a702924951a6c6246fbcdc99c3",
        "IPY_MODEL_8b60953d035242eab7209b7ca036fe63"
       ],
       "layout": "IPY_MODEL_c53714e0aaa14c928ce240a8ee0690af"
      }
     },
     "73f58583340d4049880b956839d27adf": {
      "model_module": "@jupyter-widgets/base",
      "model_module_version": "1.2.0",
      "model_name": "LayoutModel",
      "state": {}
     },
     "786a878a51f14800a0ff85dc19f3689a": {
      "model_module": "@jupyter-widgets/controls",
      "model_module_version": "1.5.0",
      "model_name": "HBoxModel",
      "state": {
       "children": [
        "IPY_MODEL_9f37018566ea4714acadcd755c70e387",
        "IPY_MODEL_ca2dc40d9b9f4ff486f7ae9ed9282781"
       ],
       "layout": "IPY_MODEL_7b2f748fcbe44981af91ea74411727af"
      }
     },
     "787039f726d74cb6a8aff5a6ea95e6cd": {
      "model_module": "@jupyter-widgets/controls",
      "model_module_version": "1.5.0",
      "model_name": "VBoxModel",
      "state": {
       "children": [
        "IPY_MODEL_888025cdf2264b4db0836a15de5f3896",
        "IPY_MODEL_a2ebe41217c446a7a7a1a36f2f2decbe"
       ],
       "layout": "IPY_MODEL_c2bb0fa8605c49348ce5160d8a627812"
      }
     },
     "79bd3baf20f241cc844920a894219403": {
      "model_module": "@jupyter-widgets/controls",
      "model_module_version": "1.5.0",
      "model_name": "VBoxModel",
      "state": {
       "children": [
        "IPY_MODEL_803e2dec173e4196b98dca145d26bbe6",
        "IPY_MODEL_84843fb619654f6da1b394ba5b33af6e"
       ],
       "layout": "IPY_MODEL_3acbcf3ec7254077a303d3eb48761976"
      }
     },
     "7b12cec1103146ae9d52302f7a7982a8": {
      "model_module": "@jupyter-widgets/base",
      "model_module_version": "1.2.0",
      "model_name": "LayoutModel",
      "state": {}
     },
     "7b1887ccf09b450c8e9beab9b5fb675c": {
      "model_module": "@jupyter-widgets/base",
      "model_module_version": "1.2.0",
      "model_name": "LayoutModel",
      "state": {
       "margin": "10px 20px"
      }
     },
     "7b2f748fcbe44981af91ea74411727af": {
      "model_module": "@jupyter-widgets/base",
      "model_module_version": "1.2.0",
      "model_name": "LayoutModel",
      "state": {
       "margin": "10px 20px"
      }
     },
     "7b997533cc3246829760ecd324ef36f6": {
      "model_module": "@jupyter-widgets/controls",
      "model_module_version": "1.5.0",
      "model_name": "LabelModel",
      "state": {
       "layout": "IPY_MODEL_b43afd9f67db4cc8b96f7f6143b20897",
       "style": "IPY_MODEL_6fb3db04220a4c34a761405a83f10b12",
       "value": "Color #1"
      }
     },
     "7c6a84ea283044888d3ffa801870b2ba": {
      "model_module": "@jupyter-widgets/controls",
      "model_module_version": "1.5.0",
      "model_name": "DescriptionStyleModel",
      "state": {
       "description_width": ""
      }
     },
     "7c76cac1bcc740e08bba56ad2c356308": {
      "model_module": "colorpicker",
      "model_module_version": "^0.1.0",
      "model_name": "ColorPickerModel",
      "state": {
       "_model_module_version": "^0.1.0",
       "_view_module_version": "^0.1.0",
       "layout": "IPY_MODEL_4ee6da0f80c14f1a978fcfb5c302db55"
      }
     },
     "7dece75b23fe495fabe74fa3864a4db2": {
      "model_module": "colorpicker",
      "model_module_version": "^0.1.0",
      "model_name": "ColorPickerModel",
      "state": {
       "_model_module_version": "^0.1.0",
       "_view_module_version": "^0.1.0",
       "layout": "IPY_MODEL_d6650e82ade348329a898cff03dba10f"
      }
     },
     "7e1a5c5e33294b83a36fe62bd324cdf6": {
      "model_module": "@jupyter-widgets/controls",
      "model_module_version": "1.5.0",
      "model_name": "DescriptionStyleModel",
      "state": {
       "description_width": ""
      }
     },
     "7eb549c2326546f298280bdfa4a006d3": {
      "model_module": "@jupyter-widgets/controls",
      "model_module_version": "1.5.0",
      "model_name": "HBoxModel",
      "state": {
       "children": [
        "IPY_MODEL_abe5aea5ba6a453ab8be683a9a46a97f",
        "IPY_MODEL_441cae5907824d2ba641c0567db8b35d"
       ],
       "layout": "IPY_MODEL_00f8f445989848c380dc29e0d0100d11"
      }
     },
     "7f0dee9c976a438481562e8873f93ad9": {
      "model_module": "@jupyter-widgets/controls",
      "model_module_version": "1.5.0",
      "model_name": "HBoxModel",
      "state": {
       "children": [
        "IPY_MODEL_7fe787c562bd48dea423f5e8b83904af",
        "IPY_MODEL_1bae54d11a784a3a8ac50105e1778fbf"
       ],
       "layout": "IPY_MODEL_d8c2039156d84e7883d9fff0829ca3ae"
      }
     },
     "7f2805bbd9934c4e92dae3b85da42660": {
      "model_module": "@jupyter-widgets/base",
      "model_module_version": "1.2.0",
      "model_name": "LayoutModel",
      "state": {}
     },
     "7f48718c7f09415388f302f4777041d1": {
      "model_module": "@jupyter-widgets/controls",
      "model_module_version": "1.5.0",
      "model_name": "DescriptionStyleModel",
      "state": {
       "description_width": ""
      }
     },
     "7f57a1b0a4e8436b974c5bfd3762b016": {
      "model_module": "@jupyter-widgets/controls",
      "model_module_version": "1.5.0",
      "model_name": "VBoxModel",
      "state": {
       "children": [
        "IPY_MODEL_c37d1c0082f6478d949f95c8922a1b9e",
        "IPY_MODEL_bc02d47520a2491b9e3a26787f871023"
       ],
       "layout": "IPY_MODEL_d64531c377ac4f8192890b3962a0f52e"
      }
     },
     "7fe787c562bd48dea423f5e8b83904af": {
      "model_module": "@jupyter-widgets/controls",
      "model_module_version": "1.5.0",
      "model_name": "LabelModel",
      "state": {
       "layout": "IPY_MODEL_469d5ad5872d48ac91caea68936fca76",
       "style": "IPY_MODEL_ee14c58f41a64d9b8558f12d633e24e4",
       "value": "color_2:"
      }
     },
     "803e2dec173e4196b98dca145d26bbe6": {
      "model_module": "@jupyter-widgets/controls",
      "model_module_version": "1.5.0",
      "model_name": "HBoxModel",
      "state": {
       "children": [
        "IPY_MODEL_002bdf5b16f84fae804718618d36e924",
        "IPY_MODEL_ed33f7229c92485391ace85346e05be2"
       ],
       "layout": "IPY_MODEL_10170aa8df324ab7a9f67bdeff996065"
      }
     },
     "808b3078ad6f4d0a8f18edbe7c84d48f": {
      "model_module": "@jupyter-widgets/controls",
      "model_module_version": "1.5.0",
      "model_name": "DescriptionStyleModel",
      "state": {
       "description_width": ""
      }
     },
     "81a1f06ce2954edaab08622f054045a1": {
      "model_module": "@jupyter-widgets/base",
      "model_module_version": "1.2.0",
      "model_name": "LayoutModel",
      "state": {}
     },
     "8228335a813a4b13b3e5e1de8b323238": {
      "model_module": "@jupyter-widgets/controls",
      "model_module_version": "1.5.0",
      "model_name": "HBoxModel",
      "state": {
       "children": [
        "IPY_MODEL_e2b069deb5b44e508de90f9b8c7e13f4",
        "IPY_MODEL_b676abea3a9b47c392812f9b7ddff902"
       ],
       "layout": "IPY_MODEL_9ceace92d9ae44a4920be6d6168275bc"
      }
     },
     "828c61c33294440d841a1cb936e94b24": {
      "model_module": "colorpicker",
      "model_module_version": "^0.1.0",
      "model_name": "ColorPickerModel",
      "state": {
       "_model_module_version": "^0.1.0",
       "_view_module_version": "^0.1.0",
       "layout": "IPY_MODEL_52ff9567c5624e2f9b266090b80f5fa7"
      }
     },
     "82909f7407904d11af34603b9f53f632": {
      "model_module": "@jupyter-widgets/controls",
      "model_module_version": "1.5.0",
      "model_name": "VBoxModel",
      "state": {
       "children": [
        "IPY_MODEL_8bd9c4c25530450d879c098c8becb5e5",
        "IPY_MODEL_caa039d7225a46f48efb276d9718b92d"
       ],
       "layout": "IPY_MODEL_031380abe227461083f5ea28557036a9"
      }
     },
     "82ca1e82c165447f9e20b43edabf9334": {
      "model_module": "@jupyter-widgets/controls",
      "model_module_version": "1.5.0",
      "model_name": "VBoxModel",
      "state": {
       "children": [
        "IPY_MODEL_8228335a813a4b13b3e5e1de8b323238",
        "IPY_MODEL_4fab82a0cca1459ba54b708e6c9ae752"
       ],
       "layout": "IPY_MODEL_e17f7a0634e94721b28179ad80af548e"
      }
     },
     "8304ea7f54084bd392457a917667355c": {
      "model_module": "@jupyter-widgets/controls",
      "model_module_version": "1.5.0",
      "model_name": "VBoxModel",
      "state": {
       "children": [
        "IPY_MODEL_8c196bffecee445bb343969cf202538e",
        "IPY_MODEL_00c41564b8b44d35b6b48f796decdd1f"
       ],
       "layout": "IPY_MODEL_9b44f13c3a564754b7ea3d58e3ccd259"
      }
     },
     "83803e0f3ff942a2a9de0a5e05e0c2e3": {
      "model_module": "colorpicker",
      "model_module_version": "^0.1.0",
      "model_name": "ColorPickerModel",
      "state": {
       "_model_module_version": "^0.1.0",
       "_view_module_version": "^0.1.0",
       "layout": "IPY_MODEL_116ebc827fa64265b155cdbc14f0169e"
      }
     },
     "84843fb619654f6da1b394ba5b33af6e": {
      "model_module": "@jupyter-widgets/controls",
      "model_module_version": "1.5.0",
      "model_name": "HBoxModel",
      "state": {
       "children": [
        "IPY_MODEL_d0658385b46d41d4ab6f80838896b146",
        "IPY_MODEL_a87c169568024dc3a2088170ca4b8db2"
       ],
       "layout": "IPY_MODEL_d02d0988c5ea4f8cbf8e930c5f445b4e"
      }
     },
     "851b2901844a4db8bee4c448501d27ce": {
      "model_module": "@jupyter-widgets/base",
      "model_module_version": "1.2.0",
      "model_name": "LayoutModel",
      "state": {
       "margin": "5px 20px"
      }
     },
     "8596df25e3844f73b50b65e8a961cba2": {
      "model_module": "@jupyter-widgets/controls",
      "model_module_version": "1.5.0",
      "model_name": "LabelModel",
      "state": {
       "layout": "IPY_MODEL_e23dd6dfa0d44a0387a0e34164290019",
       "style": "IPY_MODEL_2a5cc087aec44c66be55de3c4f9b67cf",
       "value": "color_1"
      }
     },
     "85ad3095acdf472ba2fbefe3bda46cb5": {
      "model_module": "@jupyter-widgets/controls",
      "model_module_version": "1.5.0",
      "model_name": "DescriptionStyleModel",
      "state": {
       "description_width": ""
      }
     },
     "8606b55fe5c64a7ea427b02ffcc68a4f": {
      "model_module": "@jupyter-widgets/base",
      "model_module_version": "1.2.0",
      "model_name": "LayoutModel",
      "state": {}
     },
     "882e3b58843e4f7c89f766dc8949e927": {
      "model_module": "@jupyter-widgets/controls",
      "model_module_version": "1.5.0",
      "model_name": "LabelModel",
      "state": {
       "layout": "IPY_MODEL_54ff51582fd14c37817f213d020e3b3e",
       "style": "IPY_MODEL_7f48718c7f09415388f302f4777041d1",
       "value": "color_2"
      }
     },
     "888025cdf2264b4db0836a15de5f3896": {
      "model_module": "@jupyter-widgets/controls",
      "model_module_version": "1.5.0",
      "model_name": "HBoxModel",
      "state": {
       "children": [
        "IPY_MODEL_f9f1180164fa4553be4897aa5796a692",
        "IPY_MODEL_f591e56debdd4fe58eaf8d112eaaa200"
       ],
       "layout": "IPY_MODEL_7b1887ccf09b450c8e9beab9b5fb675c"
      }
     },
     "893ad4269ec442d7a889c5d10ed8b024": {
      "model_module": "@jupyter-widgets/base",
      "model_module_version": "1.2.0",
      "model_name": "LayoutModel",
      "state": {}
     },
     "89a6ad9da6bf48fb9e7d78180406b35e": {
      "model_module": "colorpicker",
      "model_module_version": "^0.1.0",
      "model_name": "ColorPickerModel",
      "state": {
       "_model_module_version": "^0.1.0",
       "_view_module_version": "^0.1.0",
       "layout": "IPY_MODEL_eae328fb63484205839790028194ad51"
      }
     },
     "8b60953d035242eab7209b7ca036fe63": {
      "model_module": "@jupyter-widgets/controls",
      "model_module_version": "1.5.0",
      "model_name": "HBoxModel",
      "state": {
       "children": [
        "IPY_MODEL_ee3c57bde157482ca61a6fb1e3a2b3c5",
        "IPY_MODEL_f6950f46c43e4692a68ea8fc901f5e6e"
       ],
       "layout": "IPY_MODEL_2063d5cdeb964806bb9679a0acbb9f45"
      }
     },
     "8b7e82d5eeb240aeb3baf6e0cf4d5a36": {
      "model_module": "@jupyter-widgets/base",
      "model_module_version": "1.2.0",
      "model_name": "LayoutModel",
      "state": {
       "margin": "10px 0 0 0px"
      }
     },
     "8bcd799f380b4b1c9c733dc4a6c2ce9a": {
      "model_module": "@jupyter-widgets/base",
      "model_module_version": "1.2.0",
      "model_name": "LayoutModel",
      "state": {}
     },
     "8bd9c4c25530450d879c098c8becb5e5": {
      "model_module": "@jupyter-widgets/controls",
      "model_module_version": "1.5.0",
      "model_name": "HBoxModel",
      "state": {
       "children": [
        "IPY_MODEL_9e7c104926244928b6b1341ede74ca64",
        "IPY_MODEL_0e7b8ef914a04ba897c444fc5d0bf007"
       ],
       "layout": "IPY_MODEL_bec22bee645a4e46af843c84f8b8cbf7"
      }
     },
     "8c196bffecee445bb343969cf202538e": {
      "model_module": "@jupyter-widgets/controls",
      "model_module_version": "1.5.0",
      "model_name": "HBoxModel",
      "state": {
       "children": [
        "IPY_MODEL_54275303a75247b9912fe5e3bcb90877",
        "IPY_MODEL_69a60d47ceb74e1197d1bd37182a0d83"
       ],
       "layout": "IPY_MODEL_bd12252268cf40aea0dc9f0d8a673824"
      }
     },
     "8c21691304784ef18a4723c6e22b8cb5": {
      "model_module": "@jupyter-widgets/controls",
      "model_module_version": "1.5.0",
      "model_name": "DescriptionStyleModel",
      "state": {
       "description_width": ""
      }
     },
     "8dcf3682edf44154b0787333a9c061b5": {
      "model_module": "@jupyter-widgets/controls",
      "model_module_version": "1.5.0",
      "model_name": "DescriptionStyleModel",
      "state": {
       "description_width": ""
      }
     },
     "8ffc0ef580184e54bcc6dc18f3237a58": {
      "model_module": "@jupyter-widgets/base",
      "model_module_version": "1.2.0",
      "model_name": "LayoutModel",
      "state": {}
     },
     "9260ea6e1f0d4d118e5855b5a2b60bee": {
      "model_module": "@jupyter-widgets/controls",
      "model_module_version": "1.5.0",
      "model_name": "HBoxModel",
      "state": {
       "children": [
        "IPY_MODEL_24e61f30731f4af68bab8ec1dd51e832",
        "IPY_MODEL_9da7076427fd4053b6ab39b0f3a64e7d"
       ],
       "layout": "IPY_MODEL_851b2901844a4db8bee4c448501d27ce"
      }
     },
     "92ccb9f0a0514117b23d9667929b789f": {
      "model_module": "@jupyter-widgets/controls",
      "model_module_version": "1.5.0",
      "model_name": "VBoxModel",
      "state": {
       "children": [
        "IPY_MODEL_dd3b779651474ffea96c1a8d451e584f",
        "IPY_MODEL_d30c005ffe214b0c82de1b3ad28d3dcf"
       ],
       "layout": "IPY_MODEL_4d48d862a42841ec8d16af4fb3dbcd36"
      }
     },
     "92d24fbb7cd945f698af1d72bfac4f08": {
      "model_module": "colorpicker",
      "model_module_version": "^0.1.0",
      "model_name": "ColorPickerModel",
      "state": {
       "_model_module_version": "^0.1.0",
       "_view_module_version": "^0.1.0",
       "layout": "IPY_MODEL_b359207e60254790b376007cf837b9e6",
       "value": [
        136,
        69,
        255
       ]
      }
     },
     "931c47de455245e396d5d461c811917a": {
      "model_module": "@jupyter-widgets/base",
      "model_module_version": "1.2.0",
      "model_name": "LayoutModel",
      "state": {}
     },
     "936c10e16aa4404fa56d65dad1e6aa76": {
      "model_module": "@jupyter-widgets/controls",
      "model_module_version": "1.5.0",
      "model_name": "LabelModel",
      "state": {
       "layout": "IPY_MODEL_db6150f8cb474928af92a70f5e3d4bdf",
       "style": "IPY_MODEL_3f2ca391b5f1437abb89d783d806f57b",
       "value": "Color #1:"
      }
     },
     "93a74ffc5cd54f8a8d35dbd0076aa04b": {
      "model_module": "@jupyter-widgets/base",
      "model_module_version": "1.2.0",
      "model_name": "LayoutModel",
      "state": {}
     },
     "944e35ae554d43a79d88cd39971605ea": {
      "model_module": "@jupyter-widgets/controls",
      "model_module_version": "1.5.0",
      "model_name": "HBoxModel",
      "state": {
       "children": [
        "IPY_MODEL_34f004bc897b4654880a915b3a906d8d",
        "IPY_MODEL_2bed81b3cd054fbdbfbb45ca66d081b2"
       ],
       "layout": "IPY_MODEL_e939d0d3db644e459d5ffbc524c933b4"
      }
     },
     "949486a23bf94986b6d45c9d5443aca2": {
      "model_module": "@jupyter-widgets/controls",
      "model_module_version": "1.5.0",
      "model_name": "DescriptionStyleModel",
      "state": {
       "description_width": ""
      }
     },
     "952bf0fc104a453f83d18780e29d7479": {
      "model_module": "@jupyter-widgets/base",
      "model_module_version": "1.2.0",
      "model_name": "LayoutModel",
      "state": {}
     },
     "96f396fc193b49219f0d0e973655615d": {
      "model_module": "@jupyter-widgets/base",
      "model_module_version": "1.2.0",
      "model_name": "LayoutModel",
      "state": {}
     },
     "975f71e0d66143f291c19393a02d5f79": {
      "model_module": "@jupyter-widgets/base",
      "model_module_version": "1.2.0",
      "model_name": "LayoutModel",
      "state": {
       "margin": "5px 5px 5px 5px "
      }
     },
     "98121f2a42bd463fa4a275066e7aecfb": {
      "model_module": "@jupyter-widgets/base",
      "model_module_version": "1.2.0",
      "model_name": "LayoutModel",
      "state": {}
     },
     "98a8931ef8fe495ea278267146cf61a9": {
      "model_module": "@jupyter-widgets/base",
      "model_module_version": "1.2.0",
      "model_name": "LayoutModel",
      "state": {}
     },
     "9b44f13c3a564754b7ea3d58e3ccd259": {
      "model_module": "@jupyter-widgets/base",
      "model_module_version": "1.2.0",
      "model_name": "LayoutModel",
      "state": {}
     },
     "9ca06dd8c77c49db9c2989abfbd45d31": {
      "model_module": "@jupyter-widgets/base",
      "model_module_version": "1.2.0",
      "model_name": "LayoutModel",
      "state": {}
     },
     "9cbd282a7c1b4d62875243358cc3a12b": {
      "model_module": "@jupyter-widgets/controls",
      "model_module_version": "1.5.0",
      "model_name": "HBoxModel",
      "state": {
       "children": [
        "IPY_MODEL_fb55087c1e8141a0bd39fbd6f81172d8",
        "IPY_MODEL_396d7a03b72848abb455372068478aa5"
       ],
       "layout": "IPY_MODEL_1c672c6b8c654aa5bd476ef3739f0445"
      }
     },
     "9ceace92d9ae44a4920be6d6168275bc": {
      "model_module": "@jupyter-widgets/base",
      "model_module_version": "1.2.0",
      "model_name": "LayoutModel",
      "state": {
       "margin": "5px 5px 5px 5px "
      }
     },
     "9d98cadcb8f5401492e400e8546573e6": {
      "model_module": "@jupyter-widgets/base",
      "model_module_version": "1.2.0",
      "model_name": "LayoutModel",
      "state": {}
     },
     "9da7076427fd4053b6ab39b0f3a64e7d": {
      "model_module": "colorpicker",
      "model_module_version": "^0.1.0",
      "model_name": "ColorPickerModel",
      "state": {
       "_model_module_version": "^0.1.0",
       "_view_module_version": "^0.1.0",
       "layout": "IPY_MODEL_1c50ae15a6324313b6c9fcdd8a31b7e3"
      }
     },
     "9e7c104926244928b6b1341ede74ca64": {
      "model_module": "@jupyter-widgets/controls",
      "model_module_version": "1.5.0",
      "model_name": "LabelModel",
      "state": {
       "layout": "IPY_MODEL_fb60f54b5efc40cdbc094e151a36bfeb",
       "style": "IPY_MODEL_34a5154096b94661980c52034780eea3",
       "value": "Color #1"
      }
     },
     "9e8e9ad90f33462182db3e4895ce115d": {
      "model_module": "@jupyter-widgets/base",
      "model_module_version": "1.2.0",
      "model_name": "LayoutModel",
      "state": {}
     },
     "9ea7d46342864f20aef73ae23c91678b": {
      "model_module": "@jupyter-widgets/controls",
      "model_module_version": "1.5.0",
      "model_name": "HBoxModel",
      "state": {
       "children": [
        "IPY_MODEL_882e3b58843e4f7c89f766dc8949e927",
        "IPY_MODEL_ba7f715d6ee14c08b9a69b181d2aa819"
       ],
       "layout": "IPY_MODEL_2892a233cea843cdb4a353221070c2d0"
      }
     },
     "9eeddecdaaeb4476af324853825ff9b3": {
      "model_module": "@jupyter-widgets/controls",
      "model_module_version": "1.5.0",
      "model_name": "HBoxModel",
      "state": {
       "children": [
        "IPY_MODEL_fe48af19f8cc474f8541c5975d38e7bb",
        "IPY_MODEL_e0c03ded8fc6474ab39ed7c563c4d473"
       ],
       "layout": "IPY_MODEL_13e8c8e47c1c4504a770d83f934a3a5e"
      }
     },
     "9ef70a22de2d44a2bf32669099c259ca": {
      "model_module": "@jupyter-widgets/controls",
      "model_module_version": "1.5.0",
      "model_name": "DescriptionStyleModel",
      "state": {
       "description_width": ""
      }
     },
     "9f37018566ea4714acadcd755c70e387": {
      "model_module": "@jupyter-widgets/controls",
      "model_module_version": "1.5.0",
      "model_name": "LabelModel",
      "state": {
       "layout": "IPY_MODEL_c4f32b96e3d6427cae6dc5d9ff43a536",
       "style": "IPY_MODEL_9ef70a22de2d44a2bf32669099c259ca",
       "value": "color_1"
      }
     },
     "a0b91678d23c4ec283c4b5c6cdd48866": {
      "model_module": "colorpicker",
      "model_module_version": "^0.1.0",
      "model_name": "ColorPickerModel",
      "state": {
       "_model_module_version": "^0.1.0",
       "_view_module_version": "^0.1.0",
       "layout": "IPY_MODEL_bc404dee594546b4a804c1815080f19f"
      }
     },
     "a27546eb7f0d4cbdad6c42287615fa2c": {
      "model_module": "@jupyter-widgets/controls",
      "model_module_version": "1.5.0",
      "model_name": "DescriptionStyleModel",
      "state": {
       "description_width": ""
      }
     },
     "a2da38a702924951a6c6246fbcdc99c3": {
      "model_module": "@jupyter-widgets/controls",
      "model_module_version": "1.5.0",
      "model_name": "HBoxModel",
      "state": {
       "children": [
        "IPY_MODEL_176bda01c768454eb23c560d467b081a",
        "IPY_MODEL_e408d10cae694606bc790ca7c9ec5c8d"
       ],
       "layout": "IPY_MODEL_cf439c31c6cd4c15ab179b3254e6c509"
      }
     },
     "a2e718fc40774ba0b59f5154f13a38cc": {
      "model_module": "@jupyter-widgets/controls",
      "model_module_version": "1.5.0",
      "model_name": "DescriptionStyleModel",
      "state": {
       "description_width": ""
      }
     },
     "a2ebe41217c446a7a7a1a36f2f2decbe": {
      "model_module": "@jupyter-widgets/controls",
      "model_module_version": "1.5.0",
      "model_name": "HBoxModel",
      "state": {
       "children": [
        "IPY_MODEL_25b28a3930274b168a4d0651703a7831",
        "IPY_MODEL_fface1cf70c24edc94cb1a4b47166a4e"
       ],
       "layout": "IPY_MODEL_414d205715d643d9a94530e8534fb8da"
      }
     },
     "a42d4bdc8c0d41408b36f670b8ba1f61": {
      "model_module": "colorpicker",
      "model_module_version": "^0.1.0",
      "model_name": "ColorPickerModel",
      "state": {
       "_model_module_version": "^0.1.0",
       "_view_module_version": "^0.1.0",
       "layout": "IPY_MODEL_bbc37c2a8d234488bb012cb266d76927"
      }
     },
     "a458b8baddc94131887a81b33a407d06": {
      "model_module": "@jupyter-widgets/controls",
      "model_module_version": "1.5.0",
      "model_name": "DescriptionStyleModel",
      "state": {
       "description_width": ""
      }
     },
     "a4ea32558460424a8c78edca72baf5e0": {
      "model_module": "@jupyter-widgets/base",
      "model_module_version": "1.2.0",
      "model_name": "LayoutModel",
      "state": {}
     },
     "a73cbce46fdb4684b6c252d8731f32c4": {
      "model_module": "@jupyter-widgets/base",
      "model_module_version": "1.2.0",
      "model_name": "LayoutModel",
      "state": {}
     },
     "a87c169568024dc3a2088170ca4b8db2": {
      "model_module": "colorpicker",
      "model_module_version": "^0.1.0",
      "model_name": "ColorPickerModel",
      "state": {
       "_model_module_version": "^0.1.0",
       "_view_module_version": "^0.1.0",
       "layout": "IPY_MODEL_9d98cadcb8f5401492e400e8546573e6"
      }
     },
     "a88bb8c0d2854b86ad84ccfcd96b3408": {
      "model_module": "@jupyter-widgets/controls",
      "model_module_version": "1.5.0",
      "model_name": "LabelModel",
      "state": {
       "layout": "IPY_MODEL_62339f0887634128a4a8601632465954",
       "style": "IPY_MODEL_8dcf3682edf44154b0787333a9c061b5",
       "value": "Color #1"
      }
     },
     "ab255b92a0d542298696504cc21b2112": {
      "model_module": "@jupyter-widgets/base",
      "model_module_version": "1.2.0",
      "model_name": "LayoutModel",
      "state": {}
     },
     "ab863240ae9f47a39001b5c5a3b112c8": {
      "model_module": "@jupyter-widgets/base",
      "model_module_version": "1.2.0",
      "model_name": "LayoutModel",
      "state": {
       "margin": "0px 10px"
      }
     },
     "abe5aea5ba6a453ab8be683a9a46a97f": {
      "model_module": "@jupyter-widgets/controls",
      "model_module_version": "1.5.0",
      "model_name": "LabelModel",
      "state": {
       "layout": "IPY_MODEL_ab863240ae9f47a39001b5c5a3b112c8",
       "style": "IPY_MODEL_a27546eb7f0d4cbdad6c42287615fa2c",
       "value": "color_1"
      }
     },
     "ac2ed375f8ab40aaa44d9e8abbe0f4c0": {
      "model_module": "@jupyter-widgets/controls",
      "model_module_version": "1.5.0",
      "model_name": "HBoxModel",
      "state": {
       "children": [
        "IPY_MODEL_15378ba6687b47f5a4e1212db10d6a86",
        "IPY_MODEL_592c23906d0048c18a0a6fa0fd539918"
       ],
       "layout": "IPY_MODEL_c3b2ac6062194c8a98428d6ffc32fe5f"
      }
     },
     "acc0127d57db4ba8acb2deec8f9c7ab6": {
      "model_module": "@jupyter-widgets/base",
      "model_module_version": "1.2.0",
      "model_name": "LayoutModel",
      "state": {}
     },
     "ad7c51c0531d45a3b48b0a4415b3bffc": {
      "model_module": "@jupyter-widgets/base",
      "model_module_version": "1.2.0",
      "model_name": "LayoutModel",
      "state": {}
     },
     "add4215d9ad240ddbe0566dc1e62cc9e": {
      "model_module": "@jupyter-widgets/controls",
      "model_module_version": "1.5.0",
      "model_name": "DescriptionStyleModel",
      "state": {
       "description_width": ""
      }
     },
     "aeccff9e7cba4e1cac6b97e197f6534f": {
      "model_module": "@jupyter-widgets/controls",
      "model_module_version": "1.5.0",
      "model_name": "LabelModel",
      "state": {
       "layout": "IPY_MODEL_1b0323252d124920ba3696a5549944e6",
       "style": "IPY_MODEL_47f604c506724987adb1c0c67e8a478f",
       "value": "color_1"
      }
     },
     "afa10fdcf3eb44b590dea5dedc1b3c3b": {
      "model_module": "@jupyter-widgets/controls",
      "model_module_version": "1.5.0",
      "model_name": "HBoxModel",
      "state": {
       "children": [
        "IPY_MODEL_72c8287713ee428cbc0624e24db7e38b",
        "IPY_MODEL_4d8214fabdd44a478bf3765083d7e935"
       ],
       "layout": "IPY_MODEL_0ac34b45e36f4a7d987f26735a72b994"
      }
     },
     "b01d98f00a794f909ac40bf9a62a7dfe": {
      "model_module": "colorpicker",
      "model_module_version": "^0.1.0",
      "model_name": "ColorPickerModel",
      "state": {
       "_model_module_version": "^0.1.0",
       "_view_module_version": "^0.1.0",
       "layout": "IPY_MODEL_ca7512b7970c49438ab96dd70222660f",
       "value": [
        151,
        28,
        0
       ]
      }
     },
     "b0c4af90208a4174b0e51d242a250677": {
      "model_module": "@jupyter-widgets/controls",
      "model_module_version": "1.5.0",
      "model_name": "VBoxModel",
      "state": {
       "children": [
        "IPY_MODEL_7eb549c2326546f298280bdfa4a006d3",
        "IPY_MODEL_944e35ae554d43a79d88cd39971605ea"
       ],
       "layout": "IPY_MODEL_1ac67e15c2494ebbb127b1d587a3a546"
      }
     },
     "b0dd15cdfee0422894743ae79cbe3c27": {
      "model_module": "@jupyter-widgets/controls",
      "model_module_version": "1.5.0",
      "model_name": "DescriptionStyleModel",
      "state": {
       "description_width": ""
      }
     },
     "b1d94f7beade48639fea5eb33b0c14a5": {
      "model_module": "@jupyter-widgets/controls",
      "model_module_version": "1.5.0",
      "model_name": "HBoxModel",
      "state": {
       "children": [
        "IPY_MODEL_3aef8029dd7243289d5e193eb4e389b7",
        "IPY_MODEL_5fc9bb97dd6a410e8601960e204e2c8a"
       ],
       "layout": "IPY_MODEL_d15a147d2c8b4fd68001a16c1ea4fafa"
      }
     },
     "b1df6e869eaf4e0f9abce369ec032405": {
      "model_module": "colorpicker",
      "model_module_version": "^0.1.0",
      "model_name": "ColorPickerModel",
      "state": {
       "_model_module_version": "^0.1.0",
       "_view_module_version": "^0.1.0",
       "layout": "IPY_MODEL_69567ef367784bc0ad7ccf9b46c0eee5"
      }
     },
     "b2bb285f50814ac7b3a4e6a8b5430ca5": {
      "model_module": "@jupyter-widgets/base",
      "model_module_version": "1.2.0",
      "model_name": "LayoutModel",
      "state": {
       "margin": "10px 20px"
      }
     },
     "b3564918f4694576a68fb6f58f0d8a81": {
      "model_module": "@jupyter-widgets/base",
      "model_module_version": "1.2.0",
      "model_name": "LayoutModel",
      "state": {}
     },
     "b359207e60254790b376007cf837b9e6": {
      "model_module": "@jupyter-widgets/base",
      "model_module_version": "1.2.0",
      "model_name": "LayoutModel",
      "state": {}
     },
     "b3b9908ae0984a6083e1bbaba9b7c9d3": {
      "model_module": "@jupyter-widgets/base",
      "model_module_version": "1.2.0",
      "model_name": "LayoutModel",
      "state": {
       "margin": "0px 10px"
      }
     },
     "b43afd9f67db4cc8b96f7f6143b20897": {
      "model_module": "@jupyter-widgets/base",
      "model_module_version": "1.2.0",
      "model_name": "LayoutModel",
      "state": {}
     },
     "b50abe0e7bc946bb963e4904fb32763d": {
      "model_module": "@jupyter-widgets/controls",
      "model_module_version": "1.5.0",
      "model_name": "LabelModel",
      "state": {
       "layout": "IPY_MODEL_141180c53b574d3996adb16b5caed1e2",
       "style": "IPY_MODEL_bf79e0d0117d424f9c90d268fe8d3d8b",
       "value": "Color #1"
      }
     },
     "b6640fbe827344d3bed0a9e1d8aad895": {
      "model_module": "@jupyter-widgets/controls",
      "model_module_version": "1.5.0",
      "model_name": "LabelModel",
      "state": {
       "layout": "IPY_MODEL_0fe91a149aa0492097e9211ab4c4cbd9",
       "style": "IPY_MODEL_a2e718fc40774ba0b59f5154f13a38cc",
       "value": "color_1"
      }
     },
     "b676abea3a9b47c392812f9b7ddff902": {
      "model_module": "colorpicker",
      "model_module_version": "^0.1.0",
      "model_name": "ColorPickerModel",
      "state": {
       "_model_module_version": "^0.1.0",
       "_view_module_version": "^0.1.0",
       "layout": "IPY_MODEL_ff6c1124304d45cbbb826c49b29decbf"
      }
     },
     "b7f0a3c5c7ea42ffbe9236fc2c084386": {
      "model_module": "@jupyter-widgets/base",
      "model_module_version": "1.2.0",
      "model_name": "LayoutModel",
      "state": {
       "margin": "0px 10px"
      }
     },
     "b96d64baad3247bf9846c4968ceb9a4a": {
      "model_module": "colorpicker",
      "model_module_version": "^0.1.0",
      "model_name": "ColorPickerModel",
      "state": {
       "_model_module_version": "^0.1.0",
       "_view_module_version": "^0.1.0",
       "layout": "IPY_MODEL_c18c0ca583fc456eb04dc79f3e3f51e3"
      }
     },
     "b994d7bdff3e44679097972948024019": {
      "model_module": "@jupyter-widgets/controls",
      "model_module_version": "1.5.0",
      "model_name": "VBoxModel",
      "state": {
       "children": [
        "IPY_MODEL_9cbd282a7c1b4d62875243358cc3a12b",
        "IPY_MODEL_c8876c7a315641c8a71a9c279ed922fc"
       ],
       "layout": "IPY_MODEL_893ad4269ec442d7a889c5d10ed8b024"
      }
     },
     "ba7f715d6ee14c08b9a69b181d2aa819": {
      "model_module": "colorpicker",
      "model_module_version": "^0.1.0",
      "model_name": "ColorPickerModel",
      "state": {
       "_model_module_version": "^0.1.0",
       "_view_module_version": "^0.1.0",
       "layout": "IPY_MODEL_624af4a7d25c463790f10f2c7b72ab91",
       "value": [
        100,
        99,
        157
       ]
      }
     },
     "bbc37c2a8d234488bb012cb266d76927": {
      "model_module": "@jupyter-widgets/base",
      "model_module_version": "1.2.0",
      "model_name": "LayoutModel",
      "state": {}
     },
     "bbdc186dc4874c1e896c3b4af57a4dd5": {
      "model_module": "@jupyter-widgets/controls",
      "model_module_version": "1.5.0",
      "model_name": "LabelModel",
      "state": {
       "layout": "IPY_MODEL_d3f71e7395dd48e3ae962a164d621dda",
       "style": "IPY_MODEL_5c35f92812c244f89229a88694ff7a92",
       "value": "Color #2"
      }
     },
     "bc02d47520a2491b9e3a26787f871023": {
      "model_module": "@jupyter-widgets/controls",
      "model_module_version": "1.5.0",
      "model_name": "HBoxModel",
      "state": {
       "children": [
        "IPY_MODEL_f3e9fc40d76f4e62814d8b252441570b",
        "IPY_MODEL_ec5dc4384f95468893ea1e0cad8ae8d8"
       ],
       "layout": "IPY_MODEL_12047870aa32432ca905b6a4dca50693"
      }
     },
     "bc404dee594546b4a804c1815080f19f": {
      "model_module": "@jupyter-widgets/base",
      "model_module_version": "1.2.0",
      "model_name": "LayoutModel",
      "state": {}
     },
     "bd12252268cf40aea0dc9f0d8a673824": {
      "model_module": "@jupyter-widgets/base",
      "model_module_version": "1.2.0",
      "model_name": "LayoutModel",
      "state": {}
     },
     "bd3b27545348426297e8a05ad38360a8": {
      "model_module": "@jupyter-widgets/base",
      "model_module_version": "1.2.0",
      "model_name": "LayoutModel",
      "state": {}
     },
     "bd6e3b4103304f7495fd5d73ce174382": {
      "model_module": "@jupyter-widgets/controls",
      "model_module_version": "1.5.0",
      "model_name": "VBoxModel",
      "state": {
       "children": [
        "IPY_MODEL_ccf66fda70d44dbda382acdf77e2b2c2",
        "IPY_MODEL_ac2ed375f8ab40aaa44d9e8abbe0f4c0"
       ],
       "layout": "IPY_MODEL_70a982e562ca41bbaf50aded7212dae2"
      }
     },
     "bd74b5733f9641f5816e14825186c211": {
      "model_module": "@jupyter-widgets/base",
      "model_module_version": "1.2.0",
      "model_name": "LayoutModel",
      "state": {}
     },
     "be3b36950dbd4883b965060c2fbccc56": {
      "model_module": "@jupyter-widgets/controls",
      "model_module_version": "1.5.0",
      "model_name": "LabelModel",
      "state": {
       "layout": "IPY_MODEL_b3b9908ae0984a6083e1bbaba9b7c9d3",
       "style": "IPY_MODEL_0759e5ef474a4c5fbc1eb1bc183790bc",
       "value": "color_2"
      }
     },
     "be98e84970144aa1bd25f92ec3602a71": {
      "model_module": "@jupyter-widgets/controls",
      "model_module_version": "1.5.0",
      "model_name": "LabelModel",
      "state": {
       "layout": "IPY_MODEL_49389d24461b4581b5e8dc6790f59c71",
       "style": "IPY_MODEL_62eba4e2e34944c189e4e04354e3399f",
       "value": "Color #2:"
      }
     },
     "bec22bee645a4e46af843c84f8b8cbf7": {
      "model_module": "@jupyter-widgets/base",
      "model_module_version": "1.2.0",
      "model_name": "LayoutModel",
      "state": {}
     },
     "bf79e0d0117d424f9c90d268fe8d3d8b": {
      "model_module": "@jupyter-widgets/controls",
      "model_module_version": "1.5.0",
      "model_name": "DescriptionStyleModel",
      "state": {
       "description_width": ""
      }
     },
     "c0a29c17e5b841f3a8f1b5683eee5eba": {
      "model_module": "@jupyter-widgets/controls",
      "model_module_version": "1.5.0",
      "model_name": "DescriptionStyleModel",
      "state": {
       "description_width": ""
      }
     },
     "c18c0ca583fc456eb04dc79f3e3f51e3": {
      "model_module": "@jupyter-widgets/base",
      "model_module_version": "1.2.0",
      "model_name": "LayoutModel",
      "state": {}
     },
     "c2bb0fa8605c49348ce5160d8a627812": {
      "model_module": "@jupyter-widgets/base",
      "model_module_version": "1.2.0",
      "model_name": "LayoutModel",
      "state": {}
     },
     "c35cd84f282c4453997643df10e2e858": {
      "model_module": "@jupyter-widgets/base",
      "model_module_version": "1.2.0",
      "model_name": "LayoutModel",
      "state": {}
     },
     "c37d1c0082f6478d949f95c8922a1b9e": {
      "model_module": "@jupyter-widgets/controls",
      "model_module_version": "1.5.0",
      "model_name": "HBoxModel",
      "state": {
       "children": [
        "IPY_MODEL_aeccff9e7cba4e1cac6b97e197f6534f",
        "IPY_MODEL_92d24fbb7cd945f698af1d72bfac4f08"
       ],
       "layout": "IPY_MODEL_e52767b262bf483b9da204c0fe701c2d"
      }
     },
     "c3b2ac6062194c8a98428d6ffc32fe5f": {
      "model_module": "@jupyter-widgets/base",
      "model_module_version": "1.2.0",
      "model_name": "LayoutModel",
      "state": {
       "margin": "5px 5px 5px 5px "
      }
     },
     "c4d950de48724107a74cfb9c1628474e": {
      "model_module": "@jupyter-widgets/base",
      "model_module_version": "1.2.0",
      "model_name": "LayoutModel",
      "state": {
       "margin": "10px 0 0 0px"
      }
     },
     "c4f32b96e3d6427cae6dc5d9ff43a536": {
      "model_module": "@jupyter-widgets/base",
      "model_module_version": "1.2.0",
      "model_name": "LayoutModel",
      "state": {
       "margin": "0px 10px"
      }
     },
     "c53714e0aaa14c928ce240a8ee0690af": {
      "model_module": "@jupyter-widgets/base",
      "model_module_version": "1.2.0",
      "model_name": "LayoutModel",
      "state": {
       "margin": "0 0 0 400px"
      }
     },
     "c8876c7a315641c8a71a9c279ed922fc": {
      "model_module": "@jupyter-widgets/controls",
      "model_module_version": "1.5.0",
      "model_name": "HBoxModel",
      "state": {
       "children": [
        "IPY_MODEL_be98e84970144aa1bd25f92ec3602a71",
        "IPY_MODEL_7c76cac1bcc740e08bba56ad2c356308"
       ],
       "layout": "IPY_MODEL_628429942da649bd9d206169b4b10739"
      }
     },
     "ca2dc40d9b9f4ff486f7ae9ed9282781": {
      "model_module": "colorpicker",
      "model_module_version": "^0.1.0",
      "model_name": "ColorPickerModel",
      "state": {
       "_model_module_version": "^0.1.0",
       "_view_module_version": "^0.1.0",
       "layout": "IPY_MODEL_7f2805bbd9934c4e92dae3b85da42660",
       "value": [
        172,
        164,
        173
       ]
      }
     },
     "ca376d29480248249251599e10e63935": {
      "model_module": "colorpicker",
      "model_module_version": "^0.1.0",
      "model_name": "ColorPickerModel",
      "state": {
       "_model_module_version": "^0.1.0",
       "_view_module_version": "^0.1.0",
       "layout": "IPY_MODEL_1c8f4ee79d7a4d9d8706b0e0cac69024",
       "value": [
        28,
        184,
        56
       ]
      }
     },
     "ca7512b7970c49438ab96dd70222660f": {
      "model_module": "@jupyter-widgets/base",
      "model_module_version": "1.2.0",
      "model_name": "LayoutModel",
      "state": {}
     },
     "caa039d7225a46f48efb276d9718b92d": {
      "model_module": "@jupyter-widgets/controls",
      "model_module_version": "1.5.0",
      "model_name": "HBoxModel",
      "state": {
       "children": [
        "IPY_MODEL_ef15b1b607434a94926a7af001ac3518",
        "IPY_MODEL_7dece75b23fe495fabe74fa3864a4db2"
       ],
       "layout": "IPY_MODEL_284e7fabe5ed4c3ea0eebdfedcc22989"
      }
     },
     "cbac9f2974c94b8c81297c4f8cce7dfc": {
      "model_module": "@jupyter-widgets/base",
      "model_module_version": "1.2.0",
      "model_name": "LayoutModel",
      "state": {}
     },
     "cc6b25690d3b40558aa232beef396103": {
      "model_module": "@jupyter-widgets/controls",
      "model_module_version": "1.5.0",
      "model_name": "DescriptionStyleModel",
      "state": {
       "description_width": ""
      }
     },
     "ccf66fda70d44dbda382acdf77e2b2c2": {
      "model_module": "@jupyter-widgets/controls",
      "model_module_version": "1.5.0",
      "model_name": "HBoxModel",
      "state": {
       "children": [
        "IPY_MODEL_68f73004b74843a797fe4cd584dec9c6",
        "IPY_MODEL_b1df6e869eaf4e0f9abce369ec032405"
       ],
       "layout": "IPY_MODEL_1b7606c27d61415da21a5cf38f8cf899"
      }
     },
     "cd77e92740b84ff5abd6e0c5b90fbfdb": {
      "model_module": "@jupyter-widgets/controls",
      "model_module_version": "1.5.0",
      "model_name": "VBoxModel",
      "state": {
       "children": [
        "IPY_MODEL_b1d94f7beade48639fea5eb33b0c14a5",
        "IPY_MODEL_d574f58ddddb4bf4ba862d9098b7dc99"
       ],
       "layout": "IPY_MODEL_4e087d4772114f2d82f4f29cedcd9be4"
      }
     },
     "cdd79b36620a403a88d4f381a8cd0246": {
      "model_module": "@jupyter-widgets/base",
      "model_module_version": "1.2.0",
      "model_name": "LayoutModel",
      "state": {}
     },
     "cec2a5c55a3d44088d44b282b7002dd9": {
      "model_module": "colorpicker",
      "model_module_version": "^0.1.0",
      "model_name": "ColorPickerModel",
      "state": {
       "_model_module_version": "^0.1.0",
       "_view_module_version": "^0.1.0",
       "layout": "IPY_MODEL_714718d7720a4b8db29e2f8f5fdfd09b",
       "value": [
        151,
        172,
        227
       ]
      }
     },
     "cf432559a40d4e58b0f132b9bd2b9641": {
      "model_module": "@jupyter-widgets/controls",
      "model_module_version": "1.5.0",
      "model_name": "LabelModel",
      "state": {
       "layout": "IPY_MODEL_98a8931ef8fe495ea278267146cf61a9",
       "style": "IPY_MODEL_219e52fd397c454c971857bee7886b3d",
       "value": "Color #2"
      }
     },
     "cf439c31c6cd4c15ab179b3254e6c509": {
      "model_module": "@jupyter-widgets/base",
      "model_module_version": "1.2.0",
      "model_name": "LayoutModel",
      "state": {}
     },
     "cfc5caabaca24a46bdab26fe77526c2f": {
      "model_module": "@jupyter-widgets/base",
      "model_module_version": "1.2.0",
      "model_name": "LayoutModel",
      "state": {}
     },
     "d02d0988c5ea4f8cbf8e930c5f445b4e": {
      "model_module": "@jupyter-widgets/base",
      "model_module_version": "1.2.0",
      "model_name": "LayoutModel",
      "state": {
       "margin": "10px 20px"
      }
     },
     "d0658385b46d41d4ab6f80838896b146": {
      "model_module": "@jupyter-widgets/controls",
      "model_module_version": "1.5.0",
      "model_name": "LabelModel",
      "state": {
       "layout": "IPY_MODEL_2919b06cfe3e43d4bfd8a838ee01c99f",
       "style": "IPY_MODEL_85ad3095acdf472ba2fbefe3bda46cb5",
       "value": "Color #2:"
      }
     },
     "d12c47a65abb417eba127f0bab532cd1": {
      "model_module": "@jupyter-widgets/base",
      "model_module_version": "1.2.0",
      "model_name": "LayoutModel",
      "state": {}
     },
     "d15a147d2c8b4fd68001a16c1ea4fafa": {
      "model_module": "@jupyter-widgets/base",
      "model_module_version": "1.2.0",
      "model_name": "LayoutModel",
      "state": {
       "margin": "5px 5px 5px 5px "
      }
     },
     "d17a99d6f9fe4125b346a408693f918f": {
      "model_module": "@jupyter-widgets/controls",
      "model_module_version": "1.5.0",
      "model_name": "LabelModel",
      "state": {
       "layout": "IPY_MODEL_0e52be1c49854d6caa5bd3a91e665d2e",
       "style": "IPY_MODEL_7e1a5c5e33294b83a36fe62bd324cdf6",
       "value": "Color #2"
      }
     },
     "d2dd01c62c104c2cb1afdb882a9432af": {
      "model_module": "@jupyter-widgets/base",
      "model_module_version": "1.2.0",
      "model_name": "LayoutModel",
      "state": {}
     },
     "d30c005ffe214b0c82de1b3ad28d3dcf": {
      "model_module": "@jupyter-widgets/controls",
      "model_module_version": "1.5.0",
      "model_name": "HBoxModel",
      "state": {
       "children": [
        "IPY_MODEL_d17a99d6f9fe4125b346a408693f918f",
        "IPY_MODEL_ed764437a5cb461f8f819c9e6fe81b66"
       ],
       "layout": "IPY_MODEL_a4ea32558460424a8c78edca72baf5e0"
      }
     },
     "d3f71e7395dd48e3ae962a164d621dda": {
      "model_module": "@jupyter-widgets/base",
      "model_module_version": "1.2.0",
      "model_name": "LayoutModel",
      "state": {}
     },
     "d4fb221edfd04020b92d6f813d9c4634": {
      "model_module": "@jupyter-widgets/controls",
      "model_module_version": "1.5.0",
      "model_name": "DescriptionStyleModel",
      "state": {
       "description_width": ""
      }
     },
     "d574f58ddddb4bf4ba862d9098b7dc99": {
      "model_module": "@jupyter-widgets/controls",
      "model_module_version": "1.5.0",
      "model_name": "HBoxModel",
      "state": {
       "children": [
        "IPY_MODEL_33b8836f2f9a4654829860a884ae4e3b",
        "IPY_MODEL_e9250c23826a4380bc7536c6f5dd3ac4"
       ],
       "layout": "IPY_MODEL_1bc9198b4a4b4542be4a5fd32238e7b6"
      }
     },
     "d64531c377ac4f8192890b3962a0f52e": {
      "model_module": "@jupyter-widgets/base",
      "model_module_version": "1.2.0",
      "model_name": "LayoutModel",
      "state": {}
     },
     "d6650e82ade348329a898cff03dba10f": {
      "model_module": "@jupyter-widgets/base",
      "model_module_version": "1.2.0",
      "model_name": "LayoutModel",
      "state": {}
     },
     "d7b4bc391d7c47f29eb4aeea387d3ef7": {
      "model_module": "@jupyter-widgets/controls",
      "model_module_version": "1.5.0",
      "model_name": "LabelModel",
      "state": {
       "layout": "IPY_MODEL_4685d280e9954f0095caa502c7a48768",
       "style": "IPY_MODEL_715442ee155d47069f6c079e17346fb4",
       "value": "color_2"
      }
     },
     "d8c2039156d84e7883d9fff0829ca3ae": {
      "model_module": "@jupyter-widgets/base",
      "model_module_version": "1.2.0",
      "model_name": "LayoutModel",
      "state": {
       "margin": "5px 20px"
      }
     },
     "da18eac1652e4ceeb1051ac90cd2218f": {
      "model_module": "@jupyter-widgets/controls",
      "model_module_version": "1.5.0",
      "model_name": "DescriptionStyleModel",
      "state": {
       "description_width": ""
      }
     },
     "db6150f8cb474928af92a70f5e3d4bdf": {
      "model_module": "@jupyter-widgets/base",
      "model_module_version": "1.2.0",
      "model_name": "LayoutModel",
      "state": {
       "margin": "5px 5px 5px 5px "
      }
     },
     "db61ea8c79d54aac8432f3187865b9f3": {
      "model_module": "@jupyter-widgets/base",
      "model_module_version": "1.2.0",
      "model_name": "LayoutModel",
      "state": {}
     },
     "dbe886fc09294ff09a020b62b29c9de6": {
      "model_module": "colorpicker",
      "model_module_version": "^0.1.0",
      "model_name": "ColorPickerModel",
      "state": {
       "_model_module_version": "^0.1.0",
       "_view_module_version": "^0.1.0",
       "layout": "IPY_MODEL_2f39fba3746d4bc6a818aa4f6599a011"
      }
     },
     "dd3b779651474ffea96c1a8d451e584f": {
      "model_module": "@jupyter-widgets/controls",
      "model_module_version": "1.5.0",
      "model_name": "HBoxModel",
      "state": {
       "children": [
        "IPY_MODEL_6a20691a3bf34e29b7530faf033299c7",
        "IPY_MODEL_f71b2f2620634d62ad5478627890c9aa"
       ],
       "layout": "IPY_MODEL_068f8bf36c034ca292f5423d5ded605d"
      }
     },
     "dd67b1ab8fdc498a9ff947f53089e321": {
      "model_module": "@jupyter-widgets/base",
      "model_module_version": "1.2.0",
      "model_name": "LayoutModel",
      "state": {}
     },
     "de6dd3928f9c405191d33574969fd132": {
      "model_module": "@jupyter-widgets/controls",
      "model_module_version": "1.5.0",
      "model_name": "DescriptionStyleModel",
      "state": {
       "description_width": ""
      }
     },
     "deeb8360b32547e8af6e49ac7364158e": {
      "model_module": "colorpicker",
      "model_module_version": "^0.1.0",
      "model_name": "ColorPickerModel",
      "state": {
       "_model_module_version": "^0.1.0",
       "_view_module_version": "^0.1.0",
       "layout": "IPY_MODEL_d2dd01c62c104c2cb1afdb882a9432af"
      }
     },
     "df64b78e3c304bc4bf7ddde51e76caf4": {
      "model_module": "@jupyter-widgets/controls",
      "model_module_version": "1.5.0",
      "model_name": "DescriptionStyleModel",
      "state": {
       "description_width": ""
      }
     },
     "e0c03ded8fc6474ab39ed7c563c4d473": {
      "model_module": "colorpicker",
      "model_module_version": "^0.1.0",
      "model_name": "ColorPickerModel",
      "state": {
       "_model_module_version": "^0.1.0",
       "_view_module_version": "^0.1.0",
       "layout": "IPY_MODEL_931c47de455245e396d5d461c811917a"
      }
     },
     "e17f7a0634e94721b28179ad80af548e": {
      "model_module": "@jupyter-widgets/base",
      "model_module_version": "1.2.0",
      "model_name": "LayoutModel",
      "state": {}
     },
     "e23dd6dfa0d44a0387a0e34164290019": {
      "model_module": "@jupyter-widgets/base",
      "model_module_version": "1.2.0",
      "model_name": "LayoutModel",
      "state": {
       "margin": "0px 10px"
      }
     },
     "e2b069deb5b44e508de90f9b8c7e13f4": {
      "model_module": "@jupyter-widgets/controls",
      "model_module_version": "1.5.0",
      "model_name": "LabelModel",
      "state": {
       "layout": "IPY_MODEL_8bcd799f380b4b1c9c733dc4a6c2ce9a",
       "style": "IPY_MODEL_3ee01721963e4380aa366a711f587646",
       "value": "Color #1:   "
      }
     },
     "e408d10cae694606bc790ca7c9ec5c8d": {
      "model_module": "colorpicker",
      "model_module_version": "^0.1.0",
      "model_name": "ColorPickerModel",
      "state": {
       "_model_module_version": "^0.1.0",
       "_view_module_version": "^0.1.0",
       "layout": "IPY_MODEL_cbac9f2974c94b8c81297c4f8cce7dfc"
      }
     },
     "e52767b262bf483b9da204c0fe701c2d": {
      "model_module": "@jupyter-widgets/base",
      "model_module_version": "1.2.0",
      "model_name": "LayoutModel",
      "state": {
       "margin": "10px 20px"
      }
     },
     "e58bcd17ce65477b8906da89603eb156": {
      "model_module": "@jupyter-widgets/base",
      "model_module_version": "1.2.0",
      "model_name": "LayoutModel",
      "state": {}
     },
     "e71a6abee03b49428debe826c2339111": {
      "model_module": "@jupyter-widgets/controls",
      "model_module_version": "1.5.0",
      "model_name": "HBoxModel",
      "state": {
       "children": [
        "IPY_MODEL_7b997533cc3246829760ecd324ef36f6",
        "IPY_MODEL_a42d4bdc8c0d41408b36f670b8ba1f61"
       ],
       "layout": "IPY_MODEL_8b7e82d5eeb240aeb3baf6e0cf4d5a36"
      }
     },
     "e827bf3cddfd407eb58763e79a63fe0d": {
      "model_module": "@jupyter-widgets/base",
      "model_module_version": "1.2.0",
      "model_name": "LayoutModel",
      "state": {
       "margin": "5px 20px"
      }
     },
     "e9250c23826a4380bc7536c6f5dd3ac4": {
      "model_module": "colorpicker",
      "model_module_version": "^0.1.0",
      "model_name": "ColorPickerModel",
      "state": {
       "_model_module_version": "^0.1.0",
       "_view_module_version": "^0.1.0",
       "layout": "IPY_MODEL_eeda6239327b4cb6bc1d6c5e0829a98f"
      }
     },
     "e939d0d3db644e459d5ffbc524c933b4": {
      "model_module": "@jupyter-widgets/base",
      "model_module_version": "1.2.0",
      "model_name": "LayoutModel",
      "state": {
       "margin": "10px 20px"
      }
     },
     "ea144ece112944b69e6e8489d5268c29": {
      "model_module": "@jupyter-widgets/base",
      "model_module_version": "1.2.0",
      "model_name": "LayoutModel",
      "state": {
       "margin": "0px 10px"
      }
     },
     "ea76c752b8084066bf5508cc63a3bb8b": {
      "model_module": "colorpicker",
      "model_module_version": "^0.1.0",
      "model_name": "ColorPickerModel",
      "state": {
       "_model_module_version": "^0.1.0",
       "_view_module_version": "^0.1.0",
       "layout": "IPY_MODEL_454d1402d0a4417f9764a53dd6fb2bd7"
      }
     },
     "eae328fb63484205839790028194ad51": {
      "model_module": "@jupyter-widgets/base",
      "model_module_version": "1.2.0",
      "model_name": "LayoutModel",
      "state": {}
     },
     "ec5dc4384f95468893ea1e0cad8ae8d8": {
      "model_module": "colorpicker",
      "model_module_version": "^0.1.0",
      "model_name": "ColorPickerModel",
      "state": {
       "_model_module_version": "^0.1.0",
       "_view_module_version": "^0.1.0",
       "layout": "IPY_MODEL_acc0127d57db4ba8acb2deec8f9c7ab6",
       "value": [
        143,
        255,
        255
       ]
      }
     },
     "ed33f7229c92485391ace85346e05be2": {
      "model_module": "colorpicker",
      "model_module_version": "^0.1.0",
      "model_name": "ColorPickerModel",
      "state": {
       "_model_module_version": "^0.1.0",
       "_view_module_version": "^0.1.0",
       "layout": "IPY_MODEL_4b6c6ea78a6b4d3e9a6a540e77880cb8"
      }
     },
     "ed764437a5cb461f8f819c9e6fe81b66": {
      "model_module": "colorpicker",
      "model_module_version": "^0.1.0",
      "model_name": "ColorPickerModel",
      "state": {
       "_model_module_version": "^0.1.0",
       "_view_module_version": "^0.1.0",
       "layout": "IPY_MODEL_43955f13ccb242288e32b1ae9067b9e0"
      }
     },
     "ee14c58f41a64d9b8558f12d633e24e4": {
      "model_module": "@jupyter-widgets/controls",
      "model_module_version": "1.5.0",
      "model_name": "DescriptionStyleModel",
      "state": {
       "description_width": ""
      }
     },
     "ee3c57bde157482ca61a6fb1e3a2b3c5": {
      "model_module": "@jupyter-widgets/controls",
      "model_module_version": "1.5.0",
      "model_name": "LabelModel",
      "state": {
       "layout": "IPY_MODEL_2de07c404a0549e5a99b81b59300bfee",
       "style": "IPY_MODEL_714d11e1ce374731a0ca94d34f0a3ba9",
       "value": "Color #2"
      }
     },
     "eeabd9b61b40467badb27590c329819a": {
      "model_module": "colorpicker",
      "model_module_version": "^0.1.0",
      "model_name": "ColorPickerModel",
      "state": {
       "_model_module_version": "^0.1.0",
       "_view_module_version": "^0.1.0",
       "layout": "IPY_MODEL_73f58583340d4049880b956839d27adf"
      }
     },
     "eeda6239327b4cb6bc1d6c5e0829a98f": {
      "model_module": "@jupyter-widgets/base",
      "model_module_version": "1.2.0",
      "model_name": "LayoutModel",
      "state": {}
     },
     "ef15b1b607434a94926a7af001ac3518": {
      "model_module": "@jupyter-widgets/controls",
      "model_module_version": "1.5.0",
      "model_name": "LabelModel",
      "state": {
       "layout": "IPY_MODEL_952bf0fc104a453f83d18780e29d7479",
       "style": "IPY_MODEL_1bc687629d94433da496457268c2add6",
       "value": "Color #2"
      }
     },
     "efb29289932e44209ec57e7280f23a0f": {
      "model_module": "@jupyter-widgets/base",
      "model_module_version": "1.2.0",
      "model_name": "LayoutModel",
      "state": {
       "margin": "0px 10px"
      }
     },
     "f16e48396e22484c9244600aee38cf4d": {
      "model_module": "@jupyter-widgets/controls",
      "model_module_version": "1.5.0",
      "model_name": "DescriptionStyleModel",
      "state": {
       "description_width": ""
      }
     },
     "f1c921ca3a074f43a1ee3ab3ae09f21a": {
      "model_module": "@jupyter-widgets/base",
      "model_module_version": "1.2.0",
      "model_name": "LayoutModel",
      "state": {}
     },
     "f24da74b33024d5692bb904a95193f32": {
      "model_module": "@jupyter-widgets/controls",
      "model_module_version": "1.5.0",
      "model_name": "LabelModel",
      "state": {
       "layout": "IPY_MODEL_03d93d34466141cdba39ff44ba503d2d",
       "style": "IPY_MODEL_add4215d9ad240ddbe0566dc1e62cc9e",
       "value": "Color #2:   "
      }
     },
     "f2c76e5a44034e7fbba27c0bac316582": {
      "model_module": "@jupyter-widgets/controls",
      "model_module_version": "1.5.0",
      "model_name": "VBoxModel",
      "state": {
       "children": [
        "IPY_MODEL_044bc8687c78411aaf1edb0e182b6f07",
        "IPY_MODEL_f433dcc516b54e598c5f1ce8525f9266"
       ],
       "layout": "IPY_MODEL_25fee2635d144792a7717802c758af0d"
      }
     },
     "f3e9fc40d76f4e62814d8b252441570b": {
      "model_module": "@jupyter-widgets/controls",
      "model_module_version": "1.5.0",
      "model_name": "LabelModel",
      "state": {
       "layout": "IPY_MODEL_efb29289932e44209ec57e7280f23a0f",
       "style": "IPY_MODEL_280214ae573d49c3bf42ad2ec5d79acd",
       "value": "color_2"
      }
     },
     "f433dcc516b54e598c5f1ce8525f9266": {
      "model_module": "@jupyter-widgets/controls",
      "model_module_version": "1.5.0",
      "model_name": "HBoxModel",
      "state": {
       "children": [
        "IPY_MODEL_be3b36950dbd4883b965060c2fbccc56",
        "IPY_MODEL_4e05d2bb339e4c0695d98749c20534f4"
       ],
       "layout": "IPY_MODEL_3ca548802da8464fba0496093ffd6594"
      }
     },
     "f591e56debdd4fe58eaf8d112eaaa200": {
      "model_module": "colorpicker",
      "model_module_version": "^0.1.0",
      "model_name": "ColorPickerModel",
      "state": {
       "_model_module_version": "^0.1.0",
       "_view_module_version": "^0.1.0",
       "layout": "IPY_MODEL_bd74b5733f9641f5816e14825186c211",
       "value": [
        246,
        73,
        68
       ]
      }
     },
     "f61734fb4534478893edac283f75a12a": {
      "model_module": "@jupyter-widgets/controls",
      "model_module_version": "1.5.0",
      "model_name": "LabelModel",
      "state": {
       "layout": "IPY_MODEL_cdd79b36620a403a88d4f381a8cd0246",
       "style": "IPY_MODEL_6828a48a2faa4175818fc5cffa7d77f3",
       "value": "Color #2"
      }
     },
     "f6950f46c43e4692a68ea8fc901f5e6e": {
      "model_module": "colorpicker",
      "model_module_version": "^0.1.0",
      "model_name": "ColorPickerModel",
      "state": {
       "_model_module_version": "^0.1.0",
       "_view_module_version": "^0.1.0",
       "layout": "IPY_MODEL_0a5eeeb5494d4234acf2618a4bc8bd9d"
      }
     },
     "f69c701f9a594eaf8753d7a79b2e7e02": {
      "model_module": "colorpicker",
      "model_module_version": "^0.1.0",
      "model_name": "ColorPickerModel",
      "state": {
       "_model_module_version": "^0.1.0",
       "_view_module_version": "^0.1.0",
       "layout": "IPY_MODEL_1bcd77036ec5453fb83e1e760a60f3f2"
      }
     },
     "f6cb55e6c5284b9eb1209a40e7bfdf94": {
      "model_module": "@jupyter-widgets/controls",
      "model_module_version": "1.5.0",
      "model_name": "VBoxModel",
      "state": {
       "children": [
        "IPY_MODEL_5085d894a6d9490587a83496c1c9993f",
        "IPY_MODEL_50c800a2ba734059923905cab7cdde67"
       ],
       "layout": "IPY_MODEL_93a74ffc5cd54f8a8d35dbd0076aa04b"
      }
     },
     "f71b2f2620634d62ad5478627890c9aa": {
      "model_module": "colorpicker",
      "model_module_version": "^0.1.0",
      "model_name": "ColorPickerModel",
      "state": {
       "_model_module_version": "^0.1.0",
       "_view_module_version": "^0.1.0",
       "layout": "IPY_MODEL_8ffc0ef580184e54bcc6dc18f3237a58"
      }
     },
     "f834063bfc9449c1bcf3dcf5a96aa6d6": {
      "model_module": "@jupyter-widgets/base",
      "model_module_version": "1.2.0",
      "model_name": "LayoutModel",
      "state": {
       "margin": "5px 20px"
      }
     },
     "f9f1180164fa4553be4897aa5796a692": {
      "model_module": "@jupyter-widgets/controls",
      "model_module_version": "1.5.0",
      "model_name": "LabelModel",
      "state": {
       "layout": "IPY_MODEL_34c5bcc35e5f45938b5cb2966893ede0",
       "style": "IPY_MODEL_808b3078ad6f4d0a8f18edbe7c84d48f",
       "value": "color_1"
      }
     },
     "fa870d96f6c945648d8d368160209ada": {
      "model_module": "@jupyter-widgets/base",
      "model_module_version": "1.2.0",
      "model_name": "LayoutModel",
      "state": {}
     },
     "fb55087c1e8141a0bd39fbd6f81172d8": {
      "model_module": "@jupyter-widgets/controls",
      "model_module_version": "1.5.0",
      "model_name": "LabelModel",
      "state": {
       "layout": "IPY_MODEL_40daa9274f07494bb363ee9b642550d8",
       "style": "IPY_MODEL_638c04283d8a43789fa0b1aab9043377",
       "value": "Color #1:"
      }
     },
     "fb60f54b5efc40cdbc094e151a36bfeb": {
      "model_module": "@jupyter-widgets/base",
      "model_module_version": "1.2.0",
      "model_name": "LayoutModel",
      "state": {}
     },
     "fe48af19f8cc474f8541c5975d38e7bb": {
      "model_module": "@jupyter-widgets/controls",
      "model_module_version": "1.5.0",
      "model_name": "LabelModel",
      "state": {
       "layout": "IPY_MODEL_41c5524f3e5748788874cf02b3ee548b",
       "style": "IPY_MODEL_8c21691304784ef18a4723c6e22b8cb5",
       "value": "Color #2"
      }
     },
     "fe6791535bf6412fa06c6f3894728a22": {
      "model_module": "@jupyter-widgets/base",
      "model_module_version": "1.2.0",
      "model_name": "LayoutModel",
      "state": {}
     },
     "fea5e29870ee4956b148d4177c4b590a": {
      "model_module": "@jupyter-widgets/controls",
      "model_module_version": "1.5.0",
      "model_name": "HBoxModel",
      "state": {
       "children": [
        "IPY_MODEL_a88bb8c0d2854b86ad84ccfcd96b3408",
        "IPY_MODEL_dbe886fc09294ff09a020b62b29c9de6"
       ],
       "layout": "IPY_MODEL_68f266b4ec544093bb86612b1ea50664"
      }
     },
     "ff6c1124304d45cbbb826c49b29decbf": {
      "model_module": "@jupyter-widgets/base",
      "model_module_version": "1.2.0",
      "model_name": "LayoutModel",
      "state": {}
     },
     "fface1cf70c24edc94cb1a4b47166a4e": {
      "model_module": "colorpicker",
      "model_module_version": "^0.1.0",
      "model_name": "ColorPickerModel",
      "state": {
       "_model_module_version": "^0.1.0",
       "_view_module_version": "^0.1.0",
       "layout": "IPY_MODEL_fe6791535bf6412fa06c6f3894728a22",
       "value": [
        26,
        130,
        220
       ]
      }
     }
    },
    "version_major": 2,
    "version_minor": 0
   }
  }
 },
 "nbformat": 4,
 "nbformat_minor": 4
}
